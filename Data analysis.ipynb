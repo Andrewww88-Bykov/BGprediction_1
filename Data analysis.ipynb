{
 "cells": [
  {
   "cell_type": "markdown",
   "metadata": {
    "pycharm": {
     "name": "#%% md\n"
    }
   },
   "source": [
    "# 1. Data Analysis"
   ]
  },
  {
   "cell_type": "markdown",
   "metadata": {
    "pycharm": {
     "name": "#%% md\n"
    }
   },
   "source": [
    "***"
   ]
  },
  {
   "cell_type": "code",
   "execution_count": 1,
   "metadata": {
    "collapsed": false,
    "jupyter": {
     "outputs_hidden": false
    },
    "pycharm": {
     "name": "#%%\n"
    }
   },
   "outputs": [],
   "source": [
    "# ##################################################################################################################################################################\n",
    "#                      !!!!!!!!!!!!!!!!!!!!!!!!!!!!!!!!!!!!!!!!!!!!!!!!!  ATTENTION !!!!!!!!!!!!!!!!!!!!!!!!!!!!!!!!!!!!!!!!!!!!!!!!!\n",
    "# ##################################################################################################################################################################\n",
    "#\n",
    "# At the moment, only a part of the hybrid metal(III) halides dataset is presented, it will be fully available after the article is rejected.\n",
    "#\n",
    "# Your results from this notebook will be different and not very informative.\n",
    "#\n",
    "# Therefore, where important information is displayed, copies of the outputs obtained on all data are given.\n",
    "#\n",
    "# ##################################################################################################################################################################\n",
    "#                      !!!!!!!!!!!!!!!!!!!!!!!!!!!!!!!!!!!!!!!!!!!!!!!!!  ATTENTION !!!!!!!!!!!!!!!!!!!!!!!!!!!!!!!!!!!!!!!!!!!!!!!!!\n",
    "# ##################################################################################################################################################################"
   ]
  },
  {
   "cell_type": "markdown",
   "metadata": {
    "pycharm": {
     "name": "#%% md\n"
    }
   },
   "source": [
    "In this notebook:\n",
    " 1. Description of sources data\n",
    " 2. Preliminary data analysis\n",
    " 3. Finding Outliers\n",
    " 4. Prepare data for training"
   ]
  },
  {
   "cell_type": "markdown",
   "metadata": {
    "pycharm": {
     "name": "#%% md\n"
    }
   },
   "source": [
    "**Can be done by clicking \"Run all\"**"
   ]
  },
  {
   "cell_type": "code",
   "execution_count": 2,
   "metadata": {
    "collapsed": false,
    "jupyter": {
     "outputs_hidden": false
    },
    "pycharm": {
     "name": "#%%\n"
    },
    "tags": []
   },
   "outputs": [],
   "source": [
    "# import libraries\n",
    "import pandas as pd\n",
    "import numpy as np\n",
    "import seaborn as sns\n",
    "import matplotlib.pyplot as plt"
   ]
  },
  {
   "cell_type": "code",
   "execution_count": 3,
   "metadata": {
    "collapsed": false,
    "jupyter": {
     "outputs_hidden": false
    },
    "pycharm": {
     "name": "#%%\n"
    },
    "tags": []
   },
   "outputs": [],
   "source": [
    "%matplotlib inline"
   ]
  },
  {
   "cell_type": "markdown",
   "metadata": {
    "pycharm": {
     "name": "#%% md\n"
    }
   },
   "source": [
    "***"
   ]
  },
  {
   "cell_type": "markdown",
   "metadata": {
    "pycharm": {
     "name": "#%% md\n"
    }
   },
   "source": [
    "## Data collection and dataset compilation\n",
    "The compilation of the dataset, *which took more than a month of work*, is not presented here (because the volume of this work cannot be beautifully designed and shown in a perceived form).\n",
    "\n",
    "The workflow was as follows:\n",
    "1. Request to the database of crystal structure (CSD, ConQuest API);\n",
    "2. Manual selection of the necessary objects;\n",
    "3. Uploading data in the form of [CIF](https://en.wikipedia.org/wiki/Crystallographic_Information_File)-files, a table with general information and a small amount of SMILES for compounds;\n",
    "4. Combining the results of different queries into one array;\n",
    "5. Calculation of geometric parameters (lengths of angle bonds) by the program ToposPro 5.2.2, entering data into the dataset;\n",
    "6. Search articles for each object, view them, extract the band gap value and information about band gap types;\n",
    "7. An attempt at automated generation of descriptors for Hal…Hal contacts using a number of different crystallographic programs, such as Mercury, Diamond, ToposPro, and python API for CSD - was failed;\n",
    "8. Manual viewing of crystal structures and mining Hal…Hal contacts information, classification by type of $\\{MHal_{4}\\}^{-}$;\n",
    "9. Generation of features (a.k.a. descriptors) based on the received data (not present in the repository now, will appear later);\n",
    "10. Checking all data.\n",
    "\n",
    "This amounted to largest amount of work."
   ]
  },
  {
   "cell_type": "markdown",
   "metadata": {
    "pycharm": {
     "name": "#%% md\n"
    }
   },
   "source": [
    "***"
   ]
  },
  {
   "cell_type": "markdown",
   "metadata": {
    "pycharm": {
     "name": "#%% md\n"
    }
   },
   "source": [
    "## Dataset"
   ]
  },
  {
   "cell_type": "code",
   "execution_count": 4,
   "metadata": {
    "collapsed": false,
    "jupyter": {
     "outputs_hidden": false
    },
    "pycharm": {
     "name": "#%%\n"
    },
    "tags": []
   },
   "outputs": [
    {
     "data": {
      "text/plain": "    REFCODE  Chemical formula Type MHal4 BG Type  Band gap M(III) Hal    M  \\\n0    AGODEI               NaN          a       d      2.00     Bi   I  0.0   \n1    AGODIM               NaN          a       d      2.07     Bi   I  0.0   \n2    AGODOS               NaN          a       d      1.97     Bi   I  0.0   \n3  AGODOS01               NaN          a       d      1.94     Bi   I  0.0   \n4    AQALEM               NaN          a     NaN       NaN     Sb  Cl  1.0   \n5    AYENEZ               NaN          a       d      2.00     Bi   I  0.0   \n6  AYENEZ01               NaN          a       d      2.00     Bi   I  0.0   \n7    AYENOJ               NaN          a       d      1.95     Bi   I  0.0   \n8  AYENOJ01               NaN          a       d      1.95     Bi   I  0.0   \n9    AYEPAX               NaN          a       d      1.92     Bi   I  0.0   \n\n     X   Bi  ...        ADAT        MDAT  NBSI  CDRE  MSDB   NBIT  MATF  CATF  \\\n0  0.0  1.0  ...  20181008.0  20200114.0   0.0   0.0     0  112.0   2.0   3.0   \n1  0.0  1.0  ...  20181008.0  20181017.0   0.0   0.0     0  109.0   3.0   3.0   \n2  0.0  1.0  ...  20181008.0  20200114.0   0.0   0.0     0  109.0   3.0   3.0   \n3  0.0  1.0  ...  20191202.0  20200114.0   0.0   0.0     0  109.0   3.0   3.0   \n4  2.0  0.0  ...  20210323.0  20210408.0   0.0   0.0     0   91.0   3.0   3.0   \n5  0.0  1.0  ...  20161026.0  20161108.0   0.0   0.0     0  103.0   3.0   3.0   \n6  0.0  1.0  ...  20161026.0  20161108.0   0.0   0.0     0  103.0   3.0   3.0   \n7  0.0  1.0  ...  20161026.0  20161108.0   0.0   0.0     0  109.0   2.0   3.0   \n8  0.0  1.0  ...  20161026.0  20161108.0   0.0   0.0     0  109.0   2.0   3.0   \n9  0.0  1.0  ...  20161026.0  20161108.0   0.0   0.0     0  108.0   3.0   3.0   \n\n        ccdc QUAL                       ccdc PROPS  \n0    \"TEMP: 150 K        \"COLOR: red \"HABIT: block  \n1    \"TEMP: 150 K        \"COLOR: red \"HABIT: block  \n2    \"TEMP: 120 K        \"COLOR: red \"HABIT: block  \n3    \"TEMP: 297 K        \"COLOR: red \"HABIT: block  \n4    \"TEMP: 298 K  \"COLOR: colorless \"HABIT: block  \n5    \"TEMP: 292 K        \"COLOR: red \"HABIT: Prism  \n6  \"TEMP: 150.0 K        \"COLOR: red \"HABIT: Prism  \n7  \"TEMP: 292.2 K        \"COLOR: red \"HABIT: Prism  \n8  \"TEMP: 149.9 K        \"COLOR: red \"HABIT: Prism  \n9    \"TEMP: 286 K        \"COLOR: red \"HABIT: Prism  \n\n[10 rows x 102 columns]",
      "text/html": "<div>\n<style scoped>\n    .dataframe tbody tr th:only-of-type {\n        vertical-align: middle;\n    }\n\n    .dataframe tbody tr th {\n        vertical-align: top;\n    }\n\n    .dataframe thead th {\n        text-align: right;\n    }\n</style>\n<table border=\"1\" class=\"dataframe\">\n  <thead>\n    <tr style=\"text-align: right;\">\n      <th></th>\n      <th>REFCODE</th>\n      <th>Chemical formula</th>\n      <th>Type MHal4</th>\n      <th>BG Type</th>\n      <th>Band gap</th>\n      <th>M(III)</th>\n      <th>Hal</th>\n      <th>M</th>\n      <th>X</th>\n      <th>Bi</th>\n      <th>...</th>\n      <th>ADAT</th>\n      <th>MDAT</th>\n      <th>NBSI</th>\n      <th>CDRE</th>\n      <th>MSDB</th>\n      <th>NBIT</th>\n      <th>MATF</th>\n      <th>CATF</th>\n      <th>ccdc QUAL</th>\n      <th>ccdc PROPS</th>\n    </tr>\n  </thead>\n  <tbody>\n    <tr>\n      <th>0</th>\n      <td>AGODEI</td>\n      <td>NaN</td>\n      <td>a</td>\n      <td>d</td>\n      <td>2.00</td>\n      <td>Bi</td>\n      <td>I</td>\n      <td>0.0</td>\n      <td>0.0</td>\n      <td>1.0</td>\n      <td>...</td>\n      <td>20181008.0</td>\n      <td>20200114.0</td>\n      <td>0.0</td>\n      <td>0.0</td>\n      <td>0</td>\n      <td>112.0</td>\n      <td>2.0</td>\n      <td>3.0</td>\n      <td>\"TEMP: 150 K</td>\n      <td>\"COLOR: red \"HABIT: block</td>\n    </tr>\n    <tr>\n      <th>1</th>\n      <td>AGODIM</td>\n      <td>NaN</td>\n      <td>a</td>\n      <td>d</td>\n      <td>2.07</td>\n      <td>Bi</td>\n      <td>I</td>\n      <td>0.0</td>\n      <td>0.0</td>\n      <td>1.0</td>\n      <td>...</td>\n      <td>20181008.0</td>\n      <td>20181017.0</td>\n      <td>0.0</td>\n      <td>0.0</td>\n      <td>0</td>\n      <td>109.0</td>\n      <td>3.0</td>\n      <td>3.0</td>\n      <td>\"TEMP: 150 K</td>\n      <td>\"COLOR: red \"HABIT: block</td>\n    </tr>\n    <tr>\n      <th>2</th>\n      <td>AGODOS</td>\n      <td>NaN</td>\n      <td>a</td>\n      <td>d</td>\n      <td>1.97</td>\n      <td>Bi</td>\n      <td>I</td>\n      <td>0.0</td>\n      <td>0.0</td>\n      <td>1.0</td>\n      <td>...</td>\n      <td>20181008.0</td>\n      <td>20200114.0</td>\n      <td>0.0</td>\n      <td>0.0</td>\n      <td>0</td>\n      <td>109.0</td>\n      <td>3.0</td>\n      <td>3.0</td>\n      <td>\"TEMP: 120 K</td>\n      <td>\"COLOR: red \"HABIT: block</td>\n    </tr>\n    <tr>\n      <th>3</th>\n      <td>AGODOS01</td>\n      <td>NaN</td>\n      <td>a</td>\n      <td>d</td>\n      <td>1.94</td>\n      <td>Bi</td>\n      <td>I</td>\n      <td>0.0</td>\n      <td>0.0</td>\n      <td>1.0</td>\n      <td>...</td>\n      <td>20191202.0</td>\n      <td>20200114.0</td>\n      <td>0.0</td>\n      <td>0.0</td>\n      <td>0</td>\n      <td>109.0</td>\n      <td>3.0</td>\n      <td>3.0</td>\n      <td>\"TEMP: 297 K</td>\n      <td>\"COLOR: red \"HABIT: block</td>\n    </tr>\n    <tr>\n      <th>4</th>\n      <td>AQALEM</td>\n      <td>NaN</td>\n      <td>a</td>\n      <td>NaN</td>\n      <td>NaN</td>\n      <td>Sb</td>\n      <td>Cl</td>\n      <td>1.0</td>\n      <td>2.0</td>\n      <td>0.0</td>\n      <td>...</td>\n      <td>20210323.0</td>\n      <td>20210408.0</td>\n      <td>0.0</td>\n      <td>0.0</td>\n      <td>0</td>\n      <td>91.0</td>\n      <td>3.0</td>\n      <td>3.0</td>\n      <td>\"TEMP: 298 K</td>\n      <td>\"COLOR: colorless \"HABIT: block</td>\n    </tr>\n    <tr>\n      <th>5</th>\n      <td>AYENEZ</td>\n      <td>NaN</td>\n      <td>a</td>\n      <td>d</td>\n      <td>2.00</td>\n      <td>Bi</td>\n      <td>I</td>\n      <td>0.0</td>\n      <td>0.0</td>\n      <td>1.0</td>\n      <td>...</td>\n      <td>20161026.0</td>\n      <td>20161108.0</td>\n      <td>0.0</td>\n      <td>0.0</td>\n      <td>0</td>\n      <td>103.0</td>\n      <td>3.0</td>\n      <td>3.0</td>\n      <td>\"TEMP: 292 K</td>\n      <td>\"COLOR: red \"HABIT: Prism</td>\n    </tr>\n    <tr>\n      <th>6</th>\n      <td>AYENEZ01</td>\n      <td>NaN</td>\n      <td>a</td>\n      <td>d</td>\n      <td>2.00</td>\n      <td>Bi</td>\n      <td>I</td>\n      <td>0.0</td>\n      <td>0.0</td>\n      <td>1.0</td>\n      <td>...</td>\n      <td>20161026.0</td>\n      <td>20161108.0</td>\n      <td>0.0</td>\n      <td>0.0</td>\n      <td>0</td>\n      <td>103.0</td>\n      <td>3.0</td>\n      <td>3.0</td>\n      <td>\"TEMP: 150.0 K</td>\n      <td>\"COLOR: red \"HABIT: Prism</td>\n    </tr>\n    <tr>\n      <th>7</th>\n      <td>AYENOJ</td>\n      <td>NaN</td>\n      <td>a</td>\n      <td>d</td>\n      <td>1.95</td>\n      <td>Bi</td>\n      <td>I</td>\n      <td>0.0</td>\n      <td>0.0</td>\n      <td>1.0</td>\n      <td>...</td>\n      <td>20161026.0</td>\n      <td>20161108.0</td>\n      <td>0.0</td>\n      <td>0.0</td>\n      <td>0</td>\n      <td>109.0</td>\n      <td>2.0</td>\n      <td>3.0</td>\n      <td>\"TEMP: 292.2 K</td>\n      <td>\"COLOR: red \"HABIT: Prism</td>\n    </tr>\n    <tr>\n      <th>8</th>\n      <td>AYENOJ01</td>\n      <td>NaN</td>\n      <td>a</td>\n      <td>d</td>\n      <td>1.95</td>\n      <td>Bi</td>\n      <td>I</td>\n      <td>0.0</td>\n      <td>0.0</td>\n      <td>1.0</td>\n      <td>...</td>\n      <td>20161026.0</td>\n      <td>20161108.0</td>\n      <td>0.0</td>\n      <td>0.0</td>\n      <td>0</td>\n      <td>109.0</td>\n      <td>2.0</td>\n      <td>3.0</td>\n      <td>\"TEMP: 149.9 K</td>\n      <td>\"COLOR: red \"HABIT: Prism</td>\n    </tr>\n    <tr>\n      <th>9</th>\n      <td>AYEPAX</td>\n      <td>NaN</td>\n      <td>a</td>\n      <td>d</td>\n      <td>1.92</td>\n      <td>Bi</td>\n      <td>I</td>\n      <td>0.0</td>\n      <td>0.0</td>\n      <td>1.0</td>\n      <td>...</td>\n      <td>20161026.0</td>\n      <td>20161108.0</td>\n      <td>0.0</td>\n      <td>0.0</td>\n      <td>0</td>\n      <td>108.0</td>\n      <td>3.0</td>\n      <td>3.0</td>\n      <td>\"TEMP: 286 K</td>\n      <td>\"COLOR: red \"HABIT: Prism</td>\n    </tr>\n  </tbody>\n</table>\n<p>10 rows × 102 columns</p>\n</div>"
     },
     "execution_count": 4,
     "metadata": {},
     "output_type": "execute_result"
    }
   ],
   "source": [
    "# Open dataset file 'MX4_Dataset_v1.csv'\n",
    "df = pd.read_csv('MX4_Dataset_v1.csv', sep='\\t', index_col=[0])\n",
    "df.head(10)"
   ]
  },
  {
   "cell_type": "markdown",
   "metadata": {
    "pycharm": {
     "name": "#%% md\n"
    }
   },
   "source": [
    "In each row there is one object corresponding one crystal structure of hybrid metal(III) halide with $\\{MHal_{4}\\}^{-}$ anion ($M - metal: Bi^{3+}, Sb^{3+}; Hal - halogen: I^{-}, Br^{-}, Cl^{-}$).\n",
    "\n",
    "Below is a description of the information contained in the columns. All descriptors are self-generated. Unless otherwise noted, structure information is derived from CSD ([Cambridge Structural Database](https://www.ccdc.cam.ac.uk/solutions/software/csd/)):\n",
    "* **REFCODE** - CSD - identifier;\n",
    "* **Chemical formula** - chemical formula of compound. The information generated from structural data;\n",
    "* **Type MHal4** - isomer of $\\{MHal_{4}\\}^{-}$ anion: **a** - *$\\alpha$-type*, **b** - *$\\beta$-type*, **y** - *$\\gamma$-type* (**See bellow I**), **no st data** - *no structural data*, there are no atomic coordinates in the CIF-file, it is impossible to calculate descriptors and analyze the crystal structure. The information generated from structural data;\n",
    "* **BG Type** - band gap type: **d** - *direct*, **i** - *indirect*, **cht** - *charge transfer*. In most cases, this corresponds to the optical data processing model (Kubelka-Munk or Tauc models), but if the formation of an anion-to-cation charge transfer band gap is reliably confirmed, '**cht**' is presented. The information obtained from articles;\n",
    "* **Band gap** - band gap value, eV. The information obtained from articles;\n",
    "* **M(III)** - metal in anion: bismuth (**Bi**) or antimony (**Sb**), all incoming elements are listed for mixed compositions. The information obtained from CIF-file;\n",
    "* **Hal** - halogen in anion: iodine (**I**), bromine (**Br**) or chlorine (**Cl**), all incoming elements are listed for mixed compositions. The information obtained from CIF-file;\n",
    "* **M** - modify Label-encoding of metal: 0 for Bi, 1 for Sb, intermediate fractional value for mixed compositions (chemical composition descriptor);\n",
    "* **X** - modify Label-encoding of halogen: 0 for I, 1 for Br, 2 for Cl, intermediate fractional value for mixed compositions (chemical composition descriptor);\n",
    "* **Bi** - modify One-hot-encoding of metal: fraction of Bi from the metal in the anion (chemical composition descriptor);\n",
    "* **Sb** - modify One-hot-encoding of metal: fraction of Sb from the metal in the anion (chemical composition descriptor);\n",
    "* **I** - modify One-hot-encoding of halogen: fraction of I from the halogen in the anion (chemical composition descriptor);\n",
    "* **Br** - modify One-hot-encoding of halogen: fraction of Br from the halogen in the anion (chemical composition descriptor);\n",
    "* **Cl** - modify One-hot-encoding of halogen: fraction of Cl from the halogen in the anion (chemical composition descriptor);\n",
    "* **Temperature** - temperature of the X-ray diffraction experiment, K;\n",
    "* **min Hal...Hal** - minimal distance between neighboring anions, Å (NCI descriptor);\n",
    "* **aver Hal...Hal** - average distance between neighboring anions that less sum of Van der Waals radius of halogens or minimal distance between neighboring anions if there are no NCI, Å (NCI descriptor);\n",
    "* **Number of Hal...Hal contacts** - number of Hal...Hal contacts with distances less sum of Van der Waals radius (NCI descriptor);\n",
    "* **N/aver-d** - ratio of **Number of Hal...Hal contacts** to **aver Hal...Hal**, (NCI descriptor);\n",
    "* **Hal-t1**, **Hal-t2**, **Hal-d1**, **Hal-d2**, **Hal-d3**, **Hal-d4** - distances M-Hal in anion (**See bellow II**), Å (anion geometrical descriptors);\n",
    "* **t1-t2**, **t1-d1**, **t1-d2**, **t1-d3**, **t1-d4**, **t2-d1**, **t2-d2**, **t2-d3**, **t2-d4**, **d1-d2**, **d1-d3**, **d1-d4**, **d2-d3**, **d2-d4**, **d3-d4** - angles Hal-M-Hal in anion (**See bellow II**), ° (anion geometrical descriptors);\n",
    "* **delta d** - ${\\Delta}d$, a measure of the distortion degree of octahedron $MHal_{6}$ in anion based on the deviation of distances from the mean: ${\\Delta}d=\\frac{1}{6}\\displaystyle\\sum_{i=1}^{6}\\left(\\frac{r_{i}-\\bar{r}}{\\bar{r}}\\right)^{2}$, where $r$ - M-Hal distance (anion geometrical descriptor);\n",
    "* **sigma^2** - $\\sigma^{2}$, a measure of the distortion degree of octahedron $MHal_{6}$ in anion based on the deviation of 12 angles from 90°: $\\sigma^{2}=\\frac{1}{11}\\displaystyle\\sum_{i=1}^{12}\\left(\\alpha_{i}-90\\right)^{2}$, where $\\alpha$ - angle Hal-M-Hal (anion geometrical descriptor);\n",
    "* **cation smiles** - SMILES presentation of cation. The information generated from structural data from CIF-file;\n",
    "* **cation substructure smiles** - SMILES presentation of cation substructure: cation & solvated molecules. The information generated from structural data from CIF-file;\n",
    "* **Topos data** - information about distances M-Hal and angles Hal-M-Hal (dia-file) self-generated by ToposPro 5.2.2. from CIF-files;\n",
    "* **Hal...Hal contacts data** - all with distances less sum of Van der Waals radius;\n",
    "* **DOI**, **Authors**, **Journal**, **Journal volume**, **Journal page**, **Journal year** - information about publication in which the crystal structure is reported;\n",
    "* **Initial chemical formula** - chemical formula from CSD;\n",
    "* **Symmetry space group name**, **Symmetry Int Tables number**, **cell length a**, **cell length b**, **cell length c**, **cell angle alpha**, **cell angle beta**, **cell angle gamma**, **cell volume**, **rcell length a**, **rcell length b**, **rcell length c**, **rcell angle alpha**, **rcell angle beta**, **rcell angle gamma**, **rcell volume**, **molecular volume**, **cell RESIDUES**, **cell formula units Z**, **cell formula units Zprime**, **Crystal preparation**, **Crystal description**, **Polymorphism**, **Crystal notes**, **refine ls R factor**, **exptl crystal density CCDC**, **exptl crystal density diffrn**, **diffrn measurement device**, **Disodering**, **Experimental quality**, **ccdc REMARK**, **PREF**, **BATC**, **ADAT**, **MDAT**, **NBSI**, **CDRE**, **MSDB**, **NBIT**, **MATF**, **CATF**, **ccdc QUAL**, **ccdc PROPS** - crystallographic information, information about the X-ray diffraction experiment and additional information from СSD;\n",
    "The information in the remaining columns corresponds to their titles.\n",
    "\n",
    "Thus, we use 3 groups of descriptors to describe chemical honeycomb, anion geometry and non-covalent interactions between them.\n",
    "\n",
    "*NCI - Non-Covalent Interaction*\n"
   ]
  },
  {
   "cell_type": "code",
   "execution_count": 5,
   "metadata": {
    "collapsed": false,
    "jupyter": {
     "outputs_hidden": false
    },
    "pycharm": {
     "name": "#%%\n"
    }
   },
   "outputs": [
    {
     "name": "stdout",
     "output_type": "stream",
     "text": [
      "<class 'pandas.core.frame.DataFrame'>\n",
      "Int64Index: 187 entries, 0 to 186\n",
      "Data columns (total 102 columns):\n",
      " #    Column                        Non-Null Count  Dtype  \n",
      "---   ------                        --------------  -----  \n",
      " 0    REFCODE                       187 non-null    object \n",
      " 1    Chemical formula              0 non-null      float64\n",
      " 2    Type MHal4                    187 non-null    object \n",
      " 3    BG Type                       98 non-null     object \n",
      " 4    Band gap                      105 non-null    float64\n",
      " 5    M(III)                        187 non-null    object \n",
      " 6    Hal                           187 non-null    object \n",
      " 7    M                             187 non-null    float64\n",
      " 8    X                             187 non-null    float64\n",
      " 9    Bi                            187 non-null    float64\n",
      " 10   Sb                            187 non-null    float64\n",
      " 11   I                             187 non-null    float64\n",
      " 12   Br                            187 non-null    float64\n",
      " 13   Cl                            187 non-null    float64\n",
      " 14   Temperature                   187 non-null    float64\n",
      " 15   min Hal...Hal                 159 non-null    float64\n",
      " 16   aver Hal...Hal                159 non-null    float64\n",
      " 17   Number of Hal...Hal contacts  159 non-null    float64\n",
      " 18   N/aver-d                      159 non-null    float64\n",
      " 19   Hal-t1                        151 non-null    float64\n",
      " 20   Hal-t2                        151 non-null    float64\n",
      " 21   Hal-d1                        151 non-null    float64\n",
      " 22   Hal-d2                        151 non-null    float64\n",
      " 23   Hal-d3                        151 non-null    float64\n",
      " 24   Hal-d4                        151 non-null    float64\n",
      " 25   t1-t2                         151 non-null    float64\n",
      " 26   t1-d1                         151 non-null    float64\n",
      " 27   t1-d2                         151 non-null    float64\n",
      " 28   t1-d3                         151 non-null    float64\n",
      " 29   t1-d4                         151 non-null    float64\n",
      " 30   t2-d1                         151 non-null    float64\n",
      " 31   t2-d2                         151 non-null    float64\n",
      " 32   t2-d3                         151 non-null    float64\n",
      " 33   t2-d4                         151 non-null    float64\n",
      " 34   d1-d2                         151 non-null    float64\n",
      " 35   d1-d3                         151 non-null    float64\n",
      " 36   d1-d4                         151 non-null    float64\n",
      " 37   d2-d3                         151 non-null    float64\n",
      " 38   d2-d4                         151 non-null    float64\n",
      " 39   d3-d4                         151 non-null    float64\n",
      " 40   delta d                       159 non-null    float64\n",
      " 41   sigma^2                       159 non-null    float64\n",
      " 42   cation smiles                 187 non-null    object \n",
      " 43   cation substructure smiles    187 non-null    object \n",
      " 44   Topos Data                    162 non-null    object \n",
      " 45   Hal..Hal contacts data        162 non-null    object \n",
      " 46   DOI                           187 non-null    object \n",
      " 47   Authors                       187 non-null    object \n",
      " 48   Journal                       187 non-null    object \n",
      " 49   Journal volume                173 non-null    float64\n",
      " 50   Journal pages                 180 non-null    object \n",
      " 51   Journal year                  187 non-null    float64\n",
      " 52   Initial chemical formula      187 non-null    object \n",
      " 53   Systematic chemical name      187 non-null    object \n",
      " 54   Common chemical name          3 non-null      object \n",
      " 55   Melting point                 19 non-null     object \n",
      " 56   Crystal color                 146 non-null    object \n",
      " 57   Chemical properties           3 non-null      object \n",
      " 58   Sustainability                2 non-null      object \n",
      " 59   Symmetry space group name     187 non-null    object \n",
      " 60   Symmetry Int Tables number    187 non-null    float64\n",
      " 61   cell length a                 187 non-null    float64\n",
      " 62   cell length b                 187 non-null    float64\n",
      " 63   cell length c                 187 non-null    float64\n",
      " 64   cell angle alpha              187 non-null    float64\n",
      " 65   cell angle beta               187 non-null    float64\n",
      " 66   cell angle gamma              187 non-null    float64\n",
      " 67   cell volume                   187 non-null    float64\n",
      " 68   rcell length a                187 non-null    float64\n",
      " 69   rcell length b                187 non-null    float64\n",
      " 70   rcell length c                187 non-null    float64\n",
      " 71   rcell angle alpha             187 non-null    float64\n",
      " 72   rcell angle beta              187 non-null    float64\n",
      " 73   rcell angle gamma             187 non-null    float64\n",
      " 74   rcell volume                  187 non-null    float64\n",
      " 75   molecular volume              187 non-null    float64\n",
      " 76   cell RESIDUES                 187 non-null    float64\n",
      " 77   cell formula units Z          187 non-null    float64\n",
      " 78   cell formula units Zprime     187 non-null    float64\n",
      " 79   Crystal preparation           15 non-null     object \n",
      " 80   Crystal description           139 non-null    object \n",
      " 81   Polymorphism                  42 non-null     object \n",
      " 82   Crystal notes                 24 non-null     object \n",
      " 83   refine ls R factor            187 non-null    float64\n",
      " 84   exptl crystal density CCDC    187 non-null    float64\n",
      " 85   exptl crystal density diffrn  187 non-null    float64\n",
      " 86   diffrn measurement device     187 non-null    float64\n",
      " 87   Disodering                    61 non-null     object \n",
      " 88   Experimental quality          78 non-null     object \n",
      " 89   ccdc REMARK                   10 non-null     object \n",
      " 90   PREF                          187 non-null    object \n",
      " 91   BATC                          187 non-null    float64\n",
      " 92   ADAT                          187 non-null    float64\n",
      " 93   MDAT                          187 non-null    float64\n",
      " 94   NBSI                          187 non-null    float64\n",
      " 95   CDRE                          187 non-null    float64\n",
      " 96   MSDB                          187 non-null    object \n",
      " 97   NBIT                          187 non-null    float64\n",
      " 98   MATF                          187 non-null    float64\n",
      " 99   CATF                          187 non-null    float64\n",
      " 100  ccdc QUAL                     170 non-null    object \n",
      " 101  ccdc PROPS                    173 non-null    object \n",
      "dtypes: float64(70), object(32)\n",
      "memory usage: 150.5+ KB\n"
     ]
    },
    {
     "name": "stderr",
     "output_type": "stream",
     "text": [
      "<ipython-input-5-6f489487961e>:2: FutureWarning: null_counts is deprecated. Use show_counts instead\n",
      "  df.info(verbose=True, null_counts=True)\n"
     ]
    }
   ],
   "source": [
    "# Information about data in columns (None null values, data type)\n",
    "df.info(verbose=True, null_counts=True)"
   ]
  },
  {
   "cell_type": "code",
   "execution_count": 6,
   "metadata": {
    "collapsed": false,
    "jupyter": {
     "outputs_hidden": false
    },
    "pycharm": {
     "name": "#%%\n"
    }
   },
   "outputs": [
    {
     "name": "stdout",
     "output_type": "stream",
     "text": [
      "Dataset contains 187 object (crystal structures) that correspond to 130 different compounds (structures of some compounds are determined at different temperatures).\n",
      "\n",
      "Band gap values experimental determine for 105 objects.\n",
      "\n",
      "For 25 structures there are no atomic coordinates in the CIF-file, it is impossible to calculate descriptors. For 8 of them Band gap value is known.\n",
      "\n",
      "For 8 objects a several symmetrical independent metal atoms are observed in the crystal structure. 3 of them have band gap values so only geometric descriptors Deltad_d and sigma^2 can be used to predict the gap for them.\n",
      "\n",
      "There are 3 structures with y-type anion. Our models will not be able to describe them.\n",
      "\n",
      "Thus for band gap prediction 94/91 potential objects remain.\n",
      "\n",
      "For establishing relationships between \"cation-structure parameters\" 159 objects can be used.\n"
     ]
    }
   ],
   "source": [
    "print(f'''Dataset contains {df.shape[0]} object (crystal structures) that correspond to {len(set([x[:6] for x in df['REFCODE']]))-1} different compounds (structures of some compounds are determined at different temperatures).\n",
    "\n",
    "Band gap values experimental determine for {sum(df[\"Band gap\"].notna())} objects.\n",
    "\n",
    "For {sum(df[\"Type MHal4\"]==\"no st data\")} structures there are no atomic coordinates in the CIF-file, it is impossible to calculate descriptors. For {df[(df[\"Type MHal4\"]==\"no st data\")&(df[\"Band gap\"].notna())].shape[0]} of them Band gap value is known.\n",
    "\n",
    "For {df[(df[\"Type MHal4\"]==\"a\")&(df[\"Hal-t1\"].isna())].shape[0]} objects a several symmetrical independent metal atoms are observed in the crystal structure. {df[(df[\"Band gap\"].notna())&(df[\"Hal-t1\"].isna())&(df[\"Type MHal4\"]==\"a\")].shape[0]} of them have band gap values so only geometric descriptors Deltad_d and sigma^2 can be used to predict the gap for them.\n",
    "\n",
    "There are {sum(df[\"Type MHal4\"]==\"y\")} structures with y-type anion. Our models will not be able to describe them.\n",
    "\n",
    "Thus for band gap prediction {df[(df[\"Type MHal4\"]==\"a\")&(df[\"Band gap\"].notna())].shape[0]}/{df[(df[\"Type MHal4\"]==\"a\")&(df[\"Band gap\"].notna())&(df[\"Hal-t1\"].notna())].shape[0]} potential objects remain.\n",
    "\n",
    "For establishing relationships between \"cation-structure parameters\" {sum(df[\"Type MHal4\"]==\"a\")} objects can be used.''')"
   ]
  },
  {
   "cell_type": "code",
   "execution_count": 7,
   "metadata": {
    "collapsed": false,
    "jupyter": {
     "outputs_hidden": false
    },
    "pycharm": {
     "name": "#%%\n"
    }
   },
   "outputs": [],
   "source": [
    "# ##############################################  On full dataset will be ##############################################\n",
    "#\n",
    "# Dataset contains 187 object (crystal structures) that correspond to 130 different compounds (structures of some compounds are determined at different temperatures).\n",
    "#\n",
    "# Band gap values experimental determine for 105 objects.\n",
    "#\n",
    "# For 25 structures there are no atomic coordinates in the CIF-file, it is impossible to calculate descriptors. For 8 of them Band gap value is known.\n",
    "#\n",
    "# For 8 objects a several symmetrical independent metal atoms are observed in the crystal structure. 3 of them have band gap values so only geometric descriptors Deltad_d and sigma^2 can be used to predict the gap for them.\n",
    "#\n",
    "# There are 3 structures with y-type anion. Our models will not be able to describe them.\n",
    "#\n",
    "# Thus for band gap prediction 94/91 potential objects remain.\n",
    "#\n",
    "# For establishing relationships between \"cation-structure parameters\" 159 objects can be used."
   ]
  },
  {
   "cell_type": "markdown",
   "metadata": {
    "pycharm": {
     "name": "#%% md\n"
    }
   },
   "source": [
    "### I. Isomerism of $\\{MHal_{4}\\}^{-}$ anion\n",
    "\n",
    "There are three types of anions $\\{MHal_{4}\\}^{-}$. They all consist of octahedrons, which are bonded with each other by a common edge. A different order of connection of octahedra leads to a different spatial arrangement of atoms.\n",
    "\n",
    "The first of them $\\alpha-\\{MHal_{4}\\}^{-}$- occurs most often, we consider it in this problem. It's a zigzag chain:\n",
    "\n",
    "<div>\n",
    "<img src=\"images/a.png\" width=\"1000\"/>\n",
    "</div>\n",
    "\n",
    "The second and third ($\\beta$ and $\\gamma$) are rather rare, known only from 1 compound. For the second, the chain $\\beta-\\{MHal_{4}\\}^{-}$ is also a zigzag, but more curved:\n",
    "\n",
    "<div>\n",
    "<img src=\"images/b.png\" width=\"1000\"/>\n",
    "</div>\n",
    "\n",
    "And in the third, a helix and contacts inside the anion are formed (shown by a dashed line in purple):\n",
    "\n",
    "<div>\n",
    "<img src=\"images/y.png\" width=\"1000\"/>\n",
    "</div>"
   ]
  },
  {
   "cell_type": "markdown",
   "metadata": {
    "pycharm": {
     "name": "#%% md\n"
    }
   },
   "source": [
    "### II. Anion geometry description\n",
    "\n",
    "Designation scheme of atoms in anione $\\alpha$-$\\{MHal_{4}\\}^{-}$:\n",
    "\n",
    "\n",
    "<div>\n",
    "<img src=\"images/MX4_anion.png\" width=\"800\"/>\n",
    "</div>\n",
    "\n",
    "Metal atoms are named $M$.\n",
    "Terminate atoms of halogen are designated as $Hal-ti$ ($i$ = 1 or 2). They are bonded with only 1 atom $M$.\n",
    "Bridged (doubly coordinated) atoms of halogens are designated as $Hal-di$. They are bonded with 2 atom $M$.\n",
    "\n",
    "Descriptors **Hal-t1**, **Hal-t2**, **Hal-d1**, **Hal-d2**, **Hal-d3**, and **Hal-d4** correspond to the bond length $M—Hal$ with the same designated halogen atom.\n",
    "Descriptors **t1-t2**, **t1-d1**, **t1-d2**, **t1-d3**, **t1-d4**, **t2-d1**, **t2-d2**, **t2-d3**, **t2-d4**, **d1-d2**, **d1-d3**, **d1-d4**, **d2-d3**, **d2-d4**, **d3-d4** mark the angles $Hal—M—Hal$ with corresponding halogen atoms.\n",
    "\n",
    "In all structures, the atom $Hal-t1$ is chosen so that the bond $M—Hal-t1$ is the shortest. This ensures the equivalence of their positions.\n",
    "\n",
    "In total, there are 6 bond lengths and 15 angles in the anion geometry, but only $3*N-6=3*7-6=15$ parameters are linearly independent (it is more convenient to choose 6 bond lengths and 9 angles)."
   ]
  },
  {
   "cell_type": "markdown",
   "metadata": {
    "pycharm": {
     "name": "#%% md\n"
    }
   },
   "source": [
    "***"
   ]
  },
  {
   "cell_type": "markdown",
   "metadata": {
    "pycharm": {
     "name": "#%% md\n"
    }
   },
   "source": [
    "## Data analysis"
   ]
  },
  {
   "cell_type": "markdown",
   "metadata": {
    "pycharm": {
     "name": "#%% md\n"
    }
   },
   "source": [
    "Onwards, only anions of the type for which there are structural data are considered.\n",
    "\n",
    "For compounds with a charge-transfer band gap, the cation forms the minimum of the conduction band. In this case the geometry of the anion is not sufficient to predict the gap (this appears only in some cases with effective $\\pi$-$\\pi$ stacking of cations). Our model should not take into account such objects. But here they are used to find outliers.\n",
    "\n",
    "The scheme of band gap formation in most cases:\n",
    "\n",
    "<div>\n",
    "<img src=\"images/BG_M.png\" width=\"700\"/>\n",
    "</div>\n",
    "\n",
    "Formation of a bandgap due to the participation of a cation:\n",
    "\n",
    "<div>\n",
    "<img src=\"images/BG_cat.png\" width=\"700\"/>\n",
    "</div>"
   ]
  },
  {
   "cell_type": "code",
   "execution_count": 8,
   "metadata": {
    "collapsed": false,
    "jupyter": {
     "outputs_hidden": false
    },
    "pycharm": {
     "name": "#%%\n"
    },
    "tags": []
   },
   "outputs": [
    {
     "data": {
      "text/plain": "    REFCODE  Chemical formula Type MHal4 BG Type  Band gap M(III) Hal    M  \\\n0    AGODEI               NaN          a       d      2.00     Bi   I  0.0   \n1    AGODIM               NaN          a       d      2.07     Bi   I  0.0   \n2    AGODOS               NaN          a       d      1.97     Bi   I  0.0   \n3  AGODOS01               NaN          a       d      1.94     Bi   I  0.0   \n4    AQALEM               NaN          a     NaN       NaN     Sb  Cl  1.0   \n5    AYENEZ               NaN          a       d      2.00     Bi   I  0.0   \n6  AYENEZ01               NaN          a       d      2.00     Bi   I  0.0   \n7    AYENOJ               NaN          a       d      1.95     Bi   I  0.0   \n8  AYENOJ01               NaN          a       d      1.95     Bi   I  0.0   \n9    AYEPAX               NaN          a       d      1.92     Bi   I  0.0   \n\n     X   Bi  ...        ADAT        MDAT  NBSI  CDRE  MSDB   NBIT  MATF  CATF  \\\n0  0.0  1.0  ...  20181008.0  20200114.0   0.0   0.0     0  112.0   2.0   3.0   \n1  0.0  1.0  ...  20181008.0  20181017.0   0.0   0.0     0  109.0   3.0   3.0   \n2  0.0  1.0  ...  20181008.0  20200114.0   0.0   0.0     0  109.0   3.0   3.0   \n3  0.0  1.0  ...  20191202.0  20200114.0   0.0   0.0     0  109.0   3.0   3.0   \n4  2.0  0.0  ...  20210323.0  20210408.0   0.0   0.0     0   91.0   3.0   3.0   \n5  0.0  1.0  ...  20161026.0  20161108.0   0.0   0.0     0  103.0   3.0   3.0   \n6  0.0  1.0  ...  20161026.0  20161108.0   0.0   0.0     0  103.0   3.0   3.0   \n7  0.0  1.0  ...  20161026.0  20161108.0   0.0   0.0     0  109.0   2.0   3.0   \n8  0.0  1.0  ...  20161026.0  20161108.0   0.0   0.0     0  109.0   2.0   3.0   \n9  0.0  1.0  ...  20161026.0  20161108.0   0.0   0.0     0  108.0   3.0   3.0   \n\n        ccdc QUAL                       ccdc PROPS  \n0    \"TEMP: 150 K        \"COLOR: red \"HABIT: block  \n1    \"TEMP: 150 K        \"COLOR: red \"HABIT: block  \n2    \"TEMP: 120 K        \"COLOR: red \"HABIT: block  \n3    \"TEMP: 297 K        \"COLOR: red \"HABIT: block  \n4    \"TEMP: 298 K  \"COLOR: colorless \"HABIT: block  \n5    \"TEMP: 292 K        \"COLOR: red \"HABIT: Prism  \n6  \"TEMP: 150.0 K        \"COLOR: red \"HABIT: Prism  \n7  \"TEMP: 292.2 K        \"COLOR: red \"HABIT: Prism  \n8  \"TEMP: 149.9 K        \"COLOR: red \"HABIT: Prism  \n9    \"TEMP: 286 K        \"COLOR: red \"HABIT: Prism  \n\n[10 rows x 102 columns]",
      "text/html": "<div>\n<style scoped>\n    .dataframe tbody tr th:only-of-type {\n        vertical-align: middle;\n    }\n\n    .dataframe tbody tr th {\n        vertical-align: top;\n    }\n\n    .dataframe thead th {\n        text-align: right;\n    }\n</style>\n<table border=\"1\" class=\"dataframe\">\n  <thead>\n    <tr style=\"text-align: right;\">\n      <th></th>\n      <th>REFCODE</th>\n      <th>Chemical formula</th>\n      <th>Type MHal4</th>\n      <th>BG Type</th>\n      <th>Band gap</th>\n      <th>M(III)</th>\n      <th>Hal</th>\n      <th>M</th>\n      <th>X</th>\n      <th>Bi</th>\n      <th>...</th>\n      <th>ADAT</th>\n      <th>MDAT</th>\n      <th>NBSI</th>\n      <th>CDRE</th>\n      <th>MSDB</th>\n      <th>NBIT</th>\n      <th>MATF</th>\n      <th>CATF</th>\n      <th>ccdc QUAL</th>\n      <th>ccdc PROPS</th>\n    </tr>\n  </thead>\n  <tbody>\n    <tr>\n      <th>0</th>\n      <td>AGODEI</td>\n      <td>NaN</td>\n      <td>a</td>\n      <td>d</td>\n      <td>2.00</td>\n      <td>Bi</td>\n      <td>I</td>\n      <td>0.0</td>\n      <td>0.0</td>\n      <td>1.0</td>\n      <td>...</td>\n      <td>20181008.0</td>\n      <td>20200114.0</td>\n      <td>0.0</td>\n      <td>0.0</td>\n      <td>0</td>\n      <td>112.0</td>\n      <td>2.0</td>\n      <td>3.0</td>\n      <td>\"TEMP: 150 K</td>\n      <td>\"COLOR: red \"HABIT: block</td>\n    </tr>\n    <tr>\n      <th>1</th>\n      <td>AGODIM</td>\n      <td>NaN</td>\n      <td>a</td>\n      <td>d</td>\n      <td>2.07</td>\n      <td>Bi</td>\n      <td>I</td>\n      <td>0.0</td>\n      <td>0.0</td>\n      <td>1.0</td>\n      <td>...</td>\n      <td>20181008.0</td>\n      <td>20181017.0</td>\n      <td>0.0</td>\n      <td>0.0</td>\n      <td>0</td>\n      <td>109.0</td>\n      <td>3.0</td>\n      <td>3.0</td>\n      <td>\"TEMP: 150 K</td>\n      <td>\"COLOR: red \"HABIT: block</td>\n    </tr>\n    <tr>\n      <th>2</th>\n      <td>AGODOS</td>\n      <td>NaN</td>\n      <td>a</td>\n      <td>d</td>\n      <td>1.97</td>\n      <td>Bi</td>\n      <td>I</td>\n      <td>0.0</td>\n      <td>0.0</td>\n      <td>1.0</td>\n      <td>...</td>\n      <td>20181008.0</td>\n      <td>20200114.0</td>\n      <td>0.0</td>\n      <td>0.0</td>\n      <td>0</td>\n      <td>109.0</td>\n      <td>3.0</td>\n      <td>3.0</td>\n      <td>\"TEMP: 120 K</td>\n      <td>\"COLOR: red \"HABIT: block</td>\n    </tr>\n    <tr>\n      <th>3</th>\n      <td>AGODOS01</td>\n      <td>NaN</td>\n      <td>a</td>\n      <td>d</td>\n      <td>1.94</td>\n      <td>Bi</td>\n      <td>I</td>\n      <td>0.0</td>\n      <td>0.0</td>\n      <td>1.0</td>\n      <td>...</td>\n      <td>20191202.0</td>\n      <td>20200114.0</td>\n      <td>0.0</td>\n      <td>0.0</td>\n      <td>0</td>\n      <td>109.0</td>\n      <td>3.0</td>\n      <td>3.0</td>\n      <td>\"TEMP: 297 K</td>\n      <td>\"COLOR: red \"HABIT: block</td>\n    </tr>\n    <tr>\n      <th>4</th>\n      <td>AQALEM</td>\n      <td>NaN</td>\n      <td>a</td>\n      <td>NaN</td>\n      <td>NaN</td>\n      <td>Sb</td>\n      <td>Cl</td>\n      <td>1.0</td>\n      <td>2.0</td>\n      <td>0.0</td>\n      <td>...</td>\n      <td>20210323.0</td>\n      <td>20210408.0</td>\n      <td>0.0</td>\n      <td>0.0</td>\n      <td>0</td>\n      <td>91.0</td>\n      <td>3.0</td>\n      <td>3.0</td>\n      <td>\"TEMP: 298 K</td>\n      <td>\"COLOR: colorless \"HABIT: block</td>\n    </tr>\n    <tr>\n      <th>5</th>\n      <td>AYENEZ</td>\n      <td>NaN</td>\n      <td>a</td>\n      <td>d</td>\n      <td>2.00</td>\n      <td>Bi</td>\n      <td>I</td>\n      <td>0.0</td>\n      <td>0.0</td>\n      <td>1.0</td>\n      <td>...</td>\n      <td>20161026.0</td>\n      <td>20161108.0</td>\n      <td>0.0</td>\n      <td>0.0</td>\n      <td>0</td>\n      <td>103.0</td>\n      <td>3.0</td>\n      <td>3.0</td>\n      <td>\"TEMP: 292 K</td>\n      <td>\"COLOR: red \"HABIT: Prism</td>\n    </tr>\n    <tr>\n      <th>6</th>\n      <td>AYENEZ01</td>\n      <td>NaN</td>\n      <td>a</td>\n      <td>d</td>\n      <td>2.00</td>\n      <td>Bi</td>\n      <td>I</td>\n      <td>0.0</td>\n      <td>0.0</td>\n      <td>1.0</td>\n      <td>...</td>\n      <td>20161026.0</td>\n      <td>20161108.0</td>\n      <td>0.0</td>\n      <td>0.0</td>\n      <td>0</td>\n      <td>103.0</td>\n      <td>3.0</td>\n      <td>3.0</td>\n      <td>\"TEMP: 150.0 K</td>\n      <td>\"COLOR: red \"HABIT: Prism</td>\n    </tr>\n    <tr>\n      <th>7</th>\n      <td>AYENOJ</td>\n      <td>NaN</td>\n      <td>a</td>\n      <td>d</td>\n      <td>1.95</td>\n      <td>Bi</td>\n      <td>I</td>\n      <td>0.0</td>\n      <td>0.0</td>\n      <td>1.0</td>\n      <td>...</td>\n      <td>20161026.0</td>\n      <td>20161108.0</td>\n      <td>0.0</td>\n      <td>0.0</td>\n      <td>0</td>\n      <td>109.0</td>\n      <td>2.0</td>\n      <td>3.0</td>\n      <td>\"TEMP: 292.2 K</td>\n      <td>\"COLOR: red \"HABIT: Prism</td>\n    </tr>\n    <tr>\n      <th>8</th>\n      <td>AYENOJ01</td>\n      <td>NaN</td>\n      <td>a</td>\n      <td>d</td>\n      <td>1.95</td>\n      <td>Bi</td>\n      <td>I</td>\n      <td>0.0</td>\n      <td>0.0</td>\n      <td>1.0</td>\n      <td>...</td>\n      <td>20161026.0</td>\n      <td>20161108.0</td>\n      <td>0.0</td>\n      <td>0.0</td>\n      <td>0</td>\n      <td>109.0</td>\n      <td>2.0</td>\n      <td>3.0</td>\n      <td>\"TEMP: 149.9 K</td>\n      <td>\"COLOR: red \"HABIT: Prism</td>\n    </tr>\n    <tr>\n      <th>9</th>\n      <td>AYEPAX</td>\n      <td>NaN</td>\n      <td>a</td>\n      <td>d</td>\n      <td>1.92</td>\n      <td>Bi</td>\n      <td>I</td>\n      <td>0.0</td>\n      <td>0.0</td>\n      <td>1.0</td>\n      <td>...</td>\n      <td>20161026.0</td>\n      <td>20161108.0</td>\n      <td>0.0</td>\n      <td>0.0</td>\n      <td>0</td>\n      <td>108.0</td>\n      <td>3.0</td>\n      <td>3.0</td>\n      <td>\"TEMP: 286 K</td>\n      <td>\"COLOR: red \"HABIT: Prism</td>\n    </tr>\n  </tbody>\n</table>\n<p>10 rows × 102 columns</p>\n</div>"
     },
     "execution_count": 8,
     "metadata": {},
     "output_type": "execute_result"
    }
   ],
   "source": [
    "# Drop out structures with gamma-type anion and without structural data\n",
    "df.drop(index=df[df['Type MHal4']!='a'].index, inplace=True)\n",
    "df.index = range(df.shape[0])\n",
    "df.head(10)"
   ]
  },
  {
   "cell_type": "code",
   "execution_count": 9,
   "metadata": {
    "collapsed": false,
    "jupyter": {
     "outputs_hidden": false
    },
    "pycharm": {
     "name": "#%%\n"
    }
   },
   "outputs": [
    {
     "name": "stdout",
     "output_type": "stream",
     "text": [
      "<class 'pandas.core.frame.DataFrame'>\n",
      "RangeIndex: 159 entries, 0 to 158\n",
      "Data columns (total 102 columns):\n",
      " #    Column                        Non-Null Count  Dtype  \n",
      "---   ------                        --------------  -----  \n",
      " 0    REFCODE                       159 non-null    object \n",
      " 1    Chemical formula              0 non-null      float64\n",
      " 2    Type MHal4                    159 non-null    object \n",
      " 3    BG Type                       88 non-null     object \n",
      " 4    Band gap                      94 non-null     float64\n",
      " 5    M(III)                        159 non-null    object \n",
      " 6    Hal                           159 non-null    object \n",
      " 7    M                             159 non-null    float64\n",
      " 8    X                             159 non-null    float64\n",
      " 9    Bi                            159 non-null    float64\n",
      " 10   Sb                            159 non-null    float64\n",
      " 11   I                             159 non-null    float64\n",
      " 12   Br                            159 non-null    float64\n",
      " 13   Cl                            159 non-null    float64\n",
      " 14   Temperature                   159 non-null    float64\n",
      " 15   min Hal...Hal                 159 non-null    float64\n",
      " 16   aver Hal...Hal                159 non-null    float64\n",
      " 17   Number of Hal...Hal contacts  159 non-null    float64\n",
      " 18   N/aver-d                      159 non-null    float64\n",
      " 19   Hal-t1                        151 non-null    float64\n",
      " 20   Hal-t2                        151 non-null    float64\n",
      " 21   Hal-d1                        151 non-null    float64\n",
      " 22   Hal-d2                        151 non-null    float64\n",
      " 23   Hal-d3                        151 non-null    float64\n",
      " 24   Hal-d4                        151 non-null    float64\n",
      " 25   t1-t2                         151 non-null    float64\n",
      " 26   t1-d1                         151 non-null    float64\n",
      " 27   t1-d2                         151 non-null    float64\n",
      " 28   t1-d3                         151 non-null    float64\n",
      " 29   t1-d4                         151 non-null    float64\n",
      " 30   t2-d1                         151 non-null    float64\n",
      " 31   t2-d2                         151 non-null    float64\n",
      " 32   t2-d3                         151 non-null    float64\n",
      " 33   t2-d4                         151 non-null    float64\n",
      " 34   d1-d2                         151 non-null    float64\n",
      " 35   d1-d3                         151 non-null    float64\n",
      " 36   d1-d4                         151 non-null    float64\n",
      " 37   d2-d3                         151 non-null    float64\n",
      " 38   d2-d4                         151 non-null    float64\n",
      " 39   d3-d4                         151 non-null    float64\n",
      " 40   delta d                       159 non-null    float64\n",
      " 41   sigma^2                       159 non-null    float64\n",
      " 42   cation smiles                 159 non-null    object \n",
      " 43   cation substructure smiles    159 non-null    object \n",
      " 44   Topos Data                    159 non-null    object \n",
      " 45   Hal..Hal contacts data        159 non-null    object \n",
      " 46   DOI                           159 non-null    object \n",
      " 47   Authors                       159 non-null    object \n",
      " 48   Journal                       159 non-null    object \n",
      " 49   Journal volume                149 non-null    float64\n",
      " 50   Journal pages                 155 non-null    object \n",
      " 51   Journal year                  159 non-null    float64\n",
      " 52   Initial chemical formula      159 non-null    object \n",
      " 53   Systematic chemical name      159 non-null    object \n",
      " 54   Common chemical name          3 non-null      object \n",
      " 55   Melting point                 11 non-null     object \n",
      " 56   Crystal color                 129 non-null    object \n",
      " 57   Chemical properties           3 non-null      object \n",
      " 58   Sustainability                2 non-null      object \n",
      " 59   Symmetry space group name     159 non-null    object \n",
      " 60   Symmetry Int Tables number    159 non-null    float64\n",
      " 61   cell length a                 159 non-null    float64\n",
      " 62   cell length b                 159 non-null    float64\n",
      " 63   cell length c                 159 non-null    float64\n",
      " 64   cell angle alpha              159 non-null    float64\n",
      " 65   cell angle beta               159 non-null    float64\n",
      " 66   cell angle gamma              159 non-null    float64\n",
      " 67   cell volume                   159 non-null    float64\n",
      " 68   rcell length a                159 non-null    float64\n",
      " 69   rcell length b                159 non-null    float64\n",
      " 70   rcell length c                159 non-null    float64\n",
      " 71   rcell angle alpha             159 non-null    float64\n",
      " 72   rcell angle beta              159 non-null    float64\n",
      " 73   rcell angle gamma             159 non-null    float64\n",
      " 74   rcell volume                  159 non-null    float64\n",
      " 75   molecular volume              159 non-null    float64\n",
      " 76   cell RESIDUES                 159 non-null    float64\n",
      " 77   cell formula units Z          159 non-null    float64\n",
      " 78   cell formula units Zprime     159 non-null    float64\n",
      " 79   Crystal preparation           13 non-null     object \n",
      " 80   Crystal description           125 non-null    object \n",
      " 81   Polymorphism                  31 non-null     object \n",
      " 82   Crystal notes                 22 non-null     object \n",
      " 83   refine ls R factor            159 non-null    float64\n",
      " 84   exptl crystal density CCDC    159 non-null    float64\n",
      " 85   exptl crystal density diffrn  159 non-null    float64\n",
      " 86   diffrn measurement device     159 non-null    float64\n",
      " 87   Disodering                    53 non-null     object \n",
      " 88   Experimental quality          70 non-null     object \n",
      " 89   ccdc REMARK                   6 non-null      object \n",
      " 90   PREF                          159 non-null    object \n",
      " 91   BATC                          159 non-null    float64\n",
      " 92   ADAT                          159 non-null    float64\n",
      " 93   MDAT                          159 non-null    float64\n",
      " 94   NBSI                          159 non-null    float64\n",
      " 95   CDRE                          159 non-null    float64\n",
      " 96   MSDB                          159 non-null    object \n",
      " 97   NBIT                          159 non-null    float64\n",
      " 98   MATF                          159 non-null    float64\n",
      " 99   CATF                          159 non-null    float64\n",
      " 100  ccdc QUAL                     144 non-null    object \n",
      " 101  ccdc PROPS                    149 non-null    object \n",
      "dtypes: float64(70), object(32)\n",
      "memory usage: 126.8+ KB\n"
     ]
    },
    {
     "name": "stderr",
     "output_type": "stream",
     "text": [
      "<ipython-input-9-6f489487961e>:2: FutureWarning: null_counts is deprecated. Use show_counts instead\n",
      "  df.info(verbose=True, null_counts=True)\n"
     ]
    }
   ],
   "source": [
    "# Information about data in columns (None null values, data type)\n",
    "df.info(verbose=True, null_counts=True)"
   ]
  },
  {
   "cell_type": "code",
   "execution_count": 10,
   "metadata": {
    "collapsed": false,
    "jupyter": {
     "outputs_hidden": false
    },
    "pycharm": {
     "name": "#%%\n"
    }
   },
   "outputs": [],
   "source": [
    "# Приносим свои извинения, далее хватило сил только для комментирования на русском языке\n",
    "# (So sorry, English will be available at the time of submitting the article for review)"
   ]
  },
  {
   "cell_type": "markdown",
   "metadata": {
    "pycharm": {
     "name": "#%% md\n"
    }
   },
   "source": [
    "Сначала мы определили количество соединений с разным химическим составом: для всех соединений и для соединений с измеренным значением ШЗЗ. Ввод в виде таблицы:"
   ]
  },
  {
   "cell_type": "code",
   "execution_count": 11,
   "outputs": [],
   "source": [
    "from my_scripts import pair_counts_df # Импорт вспомогательной функции для подсчета общего числа значений в парах"
   ],
   "metadata": {
    "collapsed": false,
    "pycharm": {
     "name": "#%%\n"
    }
   }
  },
  {
   "cell_type": "code",
   "execution_count": 12,
   "metadata": {
    "collapsed": false,
    "jupyter": {
     "outputs_hidden": false
    },
    "pycharm": {
     "name": "#%%\n"
    },
    "tags": []
   },
   "outputs": [
    {
     "data": {
      "text/plain": "      Count of all structures                     \\\n                            I  Cl  Br Br I Cl Br   \nBi                         56  19  15    1     0   \nSb                         20  25  19    1     1   \nBi Sb                       1   0   0    1     0   \n\n      Count of structure with Band gap              \n                                     I  Br Br I Cl  \nBi                                  43   6    1  2  \nSb                                  19  14    1  6  \nBi Sb                                1   0    1  0  ",
      "text/html": "<div>\n<style scoped>\n    .dataframe tbody tr th:only-of-type {\n        vertical-align: middle;\n    }\n\n    .dataframe tbody tr th {\n        vertical-align: top;\n    }\n\n    .dataframe thead tr th {\n        text-align: left;\n    }\n</style>\n<table border=\"1\" class=\"dataframe\">\n  <thead>\n    <tr>\n      <th></th>\n      <th colspan=\"5\" halign=\"left\">Count of all structures</th>\n      <th colspan=\"4\" halign=\"left\">Count of structure with Band gap</th>\n    </tr>\n    <tr>\n      <th></th>\n      <th>I</th>\n      <th>Cl</th>\n      <th>Br</th>\n      <th>Br I</th>\n      <th>Cl Br</th>\n      <th>I</th>\n      <th>Br</th>\n      <th>Br I</th>\n      <th>Cl</th>\n    </tr>\n  </thead>\n  <tbody>\n    <tr>\n      <th>Bi</th>\n      <td>56</td>\n      <td>19</td>\n      <td>15</td>\n      <td>1</td>\n      <td>0</td>\n      <td>43</td>\n      <td>6</td>\n      <td>1</td>\n      <td>2</td>\n    </tr>\n    <tr>\n      <th>Sb</th>\n      <td>20</td>\n      <td>25</td>\n      <td>19</td>\n      <td>1</td>\n      <td>1</td>\n      <td>19</td>\n      <td>14</td>\n      <td>1</td>\n      <td>6</td>\n    </tr>\n    <tr>\n      <th>Bi Sb</th>\n      <td>1</td>\n      <td>0</td>\n      <td>0</td>\n      <td>1</td>\n      <td>0</td>\n      <td>1</td>\n      <td>0</td>\n      <td>1</td>\n      <td>0</td>\n    </tr>\n  </tbody>\n</table>\n</div>"
     },
     "execution_count": 12,
     "metadata": {},
     "output_type": "execute_result"
    }
   ],
   "source": [
    "pd.concat({'Count of all structures': pair_counts_df(df, 'M(III)', 'Hal'), 'Count of structure with Band gap': pair_counts_df(df[df['Band gap'].notna()], 'M(III)', 'Hal')}, axis=1)"
   ]
  },
  {
   "cell_type": "markdown",
   "metadata": {
    "pycharm": {
     "name": "#%% md\n"
    }
   },
   "source": [
    "Больше всего иодовисмутатов. А также есть соединения со смешанным составом:"
   ]
  },
  {
   "cell_type": "code",
   "execution_count": 13,
   "metadata": {
    "collapsed": false,
    "jupyter": {
     "outputs_hidden": false
    },
    "pycharm": {
     "name": "#%%\n"
    }
   },
   "outputs": [
    {
     "data": {
      "text/plain": "     Bi   Sb    I   Br\n22  0.5  0.5  1.0  0.0\n25  1.0  0.0  0.5  0.5\n26  0.0  1.0  0.5  0.5\n27  0.5  0.5  0.5  0.5",
      "text/html": "<div>\n<style scoped>\n    .dataframe tbody tr th:only-of-type {\n        vertical-align: middle;\n    }\n\n    .dataframe tbody tr th {\n        vertical-align: top;\n    }\n\n    .dataframe thead th {\n        text-align: right;\n    }\n</style>\n<table border=\"1\" class=\"dataframe\">\n  <thead>\n    <tr style=\"text-align: right;\">\n      <th></th>\n      <th>Bi</th>\n      <th>Sb</th>\n      <th>I</th>\n      <th>Br</th>\n    </tr>\n  </thead>\n  <tbody>\n    <tr>\n      <th>22</th>\n      <td>0.5</td>\n      <td>0.5</td>\n      <td>1.0</td>\n      <td>0.0</td>\n    </tr>\n    <tr>\n      <th>25</th>\n      <td>1.0</td>\n      <td>0.0</td>\n      <td>0.5</td>\n      <td>0.5</td>\n    </tr>\n    <tr>\n      <th>26</th>\n      <td>0.0</td>\n      <td>1.0</td>\n      <td>0.5</td>\n      <td>0.5</td>\n    </tr>\n    <tr>\n      <th>27</th>\n      <td>0.5</td>\n      <td>0.5</td>\n      <td>0.5</td>\n      <td>0.5</td>\n    </tr>\n  </tbody>\n</table>\n</div>"
     },
     "execution_count": 13,
     "metadata": {},
     "output_type": "execute_result"
    }
   ],
   "source": [
    "df[(df['M(III)']=='Bi Sb')|(df['Hal']=='Br I')].loc[:, ['Bi', 'Sb', 'I', 'Br']]"
   ]
  },
  {
   "cell_type": "markdown",
   "metadata": {
    "pycharm": {
     "name": "#%% md\n"
    }
   },
   "source": [
    "Доли элементов по соответствующему типу составляют 1/2. Далее для них анионы записаны в виде $\\alpha$-$\\{M_{x}Hal_{y}\\}^{-}$ ($x$ = 0, 0.5, 1; $y$ = 0, 2, 4}"
   ]
  },
  {
   "cell_type": "markdown",
   "metadata": {
    "pycharm": {
     "name": "#%% md\n"
    }
   },
   "source": [
    "Ниже представлна статиска значений по колонкам - для каждого дескриптора и ширины запрещенной зоны (ШЗЗ)."
   ]
  },
  {
   "cell_type": "code",
   "execution_count": 14,
   "metadata": {
    "collapsed": false,
    "jupyter": {
     "outputs_hidden": false
    },
    "pycharm": {
     "name": "#%%\n"
    }
   },
   "outputs": [
    {
     "data": {
      "text/plain": "        Band gap  Temperature  min Hal...Hal  aver Hal...Hal  \\\ncount  94.000000   159.000000     159.000000      159.000000   \nmean    2.284681   225.396226       4.030287        4.069667   \nstd     0.419041    83.718714       0.592272        0.577792   \nmin     1.550000    85.000000       3.240200        3.240200   \n25%     2.000000   144.000000       3.765900        3.805200   \n50%     2.170000   293.000000       3.919500        3.967275   \n75%     2.587500   295.000000       4.133950        4.147390   \nmax     3.470000   346.000000       8.814100        8.814100   \n\n       Number of Hal...Hal contacts    N/aver-d      Hal-t1      Hal-t2  \\\ncount                    159.000000  159.000000  151.000000  151.000000   \nmean                       2.336478    0.596254    2.704746    2.730332   \nstd                        1.960445    0.494038    0.201985    0.204094   \nmin                        0.000000    0.000000    2.352100    2.370800   \n25%                        0.000000    0.000000    2.525050    2.557200   \n50%                        2.000000    0.515291    2.782500    2.782500   \n75%                        4.000000    1.011786    2.903900    2.919500   \nmax                        6.000000    1.617425    2.962400    3.029800   \n\n           Hal-d1      Hal-d2      Hal-d3      Hal-d4  \ncount  151.000000  151.000000  151.000000  151.000000  \nmean     3.165806    2.922665    3.234507    2.916665  \nstd      0.126349    0.183360    0.136849    0.176141  \nmin      2.627800    2.446800    2.627800    2.433500  \n25%      3.101050    2.762750    3.181800    2.744100  \n50%      3.212400    2.998800    3.270500    2.951100  \n75%      3.260200    3.078400    3.301850    3.078100  \nmax      3.354700    3.194700    3.591400    3.166600  ",
      "text/html": "<div>\n<style scoped>\n    .dataframe tbody tr th:only-of-type {\n        vertical-align: middle;\n    }\n\n    .dataframe tbody tr th {\n        vertical-align: top;\n    }\n\n    .dataframe thead th {\n        text-align: right;\n    }\n</style>\n<table border=\"1\" class=\"dataframe\">\n  <thead>\n    <tr style=\"text-align: right;\">\n      <th></th>\n      <th>Band gap</th>\n      <th>Temperature</th>\n      <th>min Hal...Hal</th>\n      <th>aver Hal...Hal</th>\n      <th>Number of Hal...Hal contacts</th>\n      <th>N/aver-d</th>\n      <th>Hal-t1</th>\n      <th>Hal-t2</th>\n      <th>Hal-d1</th>\n      <th>Hal-d2</th>\n      <th>Hal-d3</th>\n      <th>Hal-d4</th>\n    </tr>\n  </thead>\n  <tbody>\n    <tr>\n      <th>count</th>\n      <td>94.000000</td>\n      <td>159.000000</td>\n      <td>159.000000</td>\n      <td>159.000000</td>\n      <td>159.000000</td>\n      <td>159.000000</td>\n      <td>151.000000</td>\n      <td>151.000000</td>\n      <td>151.000000</td>\n      <td>151.000000</td>\n      <td>151.000000</td>\n      <td>151.000000</td>\n    </tr>\n    <tr>\n      <th>mean</th>\n      <td>2.284681</td>\n      <td>225.396226</td>\n      <td>4.030287</td>\n      <td>4.069667</td>\n      <td>2.336478</td>\n      <td>0.596254</td>\n      <td>2.704746</td>\n      <td>2.730332</td>\n      <td>3.165806</td>\n      <td>2.922665</td>\n      <td>3.234507</td>\n      <td>2.916665</td>\n    </tr>\n    <tr>\n      <th>std</th>\n      <td>0.419041</td>\n      <td>83.718714</td>\n      <td>0.592272</td>\n      <td>0.577792</td>\n      <td>1.960445</td>\n      <td>0.494038</td>\n      <td>0.201985</td>\n      <td>0.204094</td>\n      <td>0.126349</td>\n      <td>0.183360</td>\n      <td>0.136849</td>\n      <td>0.176141</td>\n    </tr>\n    <tr>\n      <th>min</th>\n      <td>1.550000</td>\n      <td>85.000000</td>\n      <td>3.240200</td>\n      <td>3.240200</td>\n      <td>0.000000</td>\n      <td>0.000000</td>\n      <td>2.352100</td>\n      <td>2.370800</td>\n      <td>2.627800</td>\n      <td>2.446800</td>\n      <td>2.627800</td>\n      <td>2.433500</td>\n    </tr>\n    <tr>\n      <th>25%</th>\n      <td>2.000000</td>\n      <td>144.000000</td>\n      <td>3.765900</td>\n      <td>3.805200</td>\n      <td>0.000000</td>\n      <td>0.000000</td>\n      <td>2.525050</td>\n      <td>2.557200</td>\n      <td>3.101050</td>\n      <td>2.762750</td>\n      <td>3.181800</td>\n      <td>2.744100</td>\n    </tr>\n    <tr>\n      <th>50%</th>\n      <td>2.170000</td>\n      <td>293.000000</td>\n      <td>3.919500</td>\n      <td>3.967275</td>\n      <td>2.000000</td>\n      <td>0.515291</td>\n      <td>2.782500</td>\n      <td>2.782500</td>\n      <td>3.212400</td>\n      <td>2.998800</td>\n      <td>3.270500</td>\n      <td>2.951100</td>\n    </tr>\n    <tr>\n      <th>75%</th>\n      <td>2.587500</td>\n      <td>295.000000</td>\n      <td>4.133950</td>\n      <td>4.147390</td>\n      <td>4.000000</td>\n      <td>1.011786</td>\n      <td>2.903900</td>\n      <td>2.919500</td>\n      <td>3.260200</td>\n      <td>3.078400</td>\n      <td>3.301850</td>\n      <td>3.078100</td>\n    </tr>\n    <tr>\n      <th>max</th>\n      <td>3.470000</td>\n      <td>346.000000</td>\n      <td>8.814100</td>\n      <td>8.814100</td>\n      <td>6.000000</td>\n      <td>1.617425</td>\n      <td>2.962400</td>\n      <td>3.029800</td>\n      <td>3.354700</td>\n      <td>3.194700</td>\n      <td>3.591400</td>\n      <td>3.166600</td>\n    </tr>\n  </tbody>\n</table>\n</div>"
     },
     "execution_count": 14,
     "metadata": {},
     "output_type": "execute_result"
    }
   ],
   "source": [
    "df[['Band gap']+df.columns[14:25].to_list()].describe()"
   ]
  },
  {
   "cell_type": "code",
   "execution_count": 15,
   "metadata": {
    "collapsed": false,
    "jupyter": {
     "outputs_hidden": false
    },
    "pycharm": {
     "name": "#%%\n"
    }
   },
   "outputs": [
    {
     "data": {
      "text/plain": "            t1-t2       t1-d1       t1-d2       t1-d3       t1-d4      t2-d1  \\\ncount  151.000000  151.000000  151.000000  151.000000  151.000000  151.00000   \nmean    94.102762   88.979464   92.511245  170.911450   89.127675  172.73751   \nstd      2.111289    3.092025    2.945235    4.849014    2.270023    3.16543   \nmin     88.962000   73.833000   84.687000  148.283000   83.523000  161.88800   \n25%     92.828500   87.612000   90.528000  169.441500   87.883500  170.93850   \n50%     94.072000   89.743000   92.812000  171.829000   89.196000  172.64500   \n75%     95.093000   90.826000   94.675000  173.505500   90.071000  175.00200   \nmax    102.252000   95.475000  100.818000  178.625000  100.452000  186.54100   \n\n            t2-d2       t2-d3       t2-d4       d1-d2       d1-d3       d1-d4  \\\ncount  151.000000  151.000000  151.000000  151.000000  151.000000  151.000000   \nmean    89.332285   89.385093   92.713238   86.884768   88.183682   90.951907   \nstd      2.370221    4.150620    2.595376    4.096936    7.259727    4.435683   \nmin     81.234000   73.833000   85.520000   74.191000   79.485000   79.537000   \n25%     87.744500   88.169500   90.884000   84.927500   83.424500   88.604000   \n50%     89.163000   89.912000   93.096000   86.534000   85.900000   91.032000   \n75%     90.370000   91.827000   94.570000   88.223500   89.616500   93.359500   \nmax    100.452000   97.268000  100.818000   99.019000  119.098000  105.752000   \n\n            d2-d3       d2-d4       d3-d4     delta d     sigma^2  \ncount  151.000000  151.000000  151.000000  159.000000  159.000000  \nmean    92.396556  175.117914   85.850152    0.005966   24.545028  \nstd      7.025554    3.209347    5.476256    0.005178   29.673144  \nmin     79.537000  148.510000   65.330000    0.000974    3.705907  \n25%     88.028500  173.846500   83.784500    0.002431   11.225850  \n50%     91.096000  175.580000   86.073000    0.004046   14.849373  \n75%     95.090500  177.110000   87.774000    0.008108   22.943502  \nmax    118.902000  179.776000   99.019000    0.024421  190.036431  ",
      "text/html": "<div>\n<style scoped>\n    .dataframe tbody tr th:only-of-type {\n        vertical-align: middle;\n    }\n\n    .dataframe tbody tr th {\n        vertical-align: top;\n    }\n\n    .dataframe thead th {\n        text-align: right;\n    }\n</style>\n<table border=\"1\" class=\"dataframe\">\n  <thead>\n    <tr style=\"text-align: right;\">\n      <th></th>\n      <th>t1-t2</th>\n      <th>t1-d1</th>\n      <th>t1-d2</th>\n      <th>t1-d3</th>\n      <th>t1-d4</th>\n      <th>t2-d1</th>\n      <th>t2-d2</th>\n      <th>t2-d3</th>\n      <th>t2-d4</th>\n      <th>d1-d2</th>\n      <th>d1-d3</th>\n      <th>d1-d4</th>\n      <th>d2-d3</th>\n      <th>d2-d4</th>\n      <th>d3-d4</th>\n      <th>delta d</th>\n      <th>sigma^2</th>\n    </tr>\n  </thead>\n  <tbody>\n    <tr>\n      <th>count</th>\n      <td>151.000000</td>\n      <td>151.000000</td>\n      <td>151.000000</td>\n      <td>151.000000</td>\n      <td>151.000000</td>\n      <td>151.00000</td>\n      <td>151.000000</td>\n      <td>151.000000</td>\n      <td>151.000000</td>\n      <td>151.000000</td>\n      <td>151.000000</td>\n      <td>151.000000</td>\n      <td>151.000000</td>\n      <td>151.000000</td>\n      <td>151.000000</td>\n      <td>159.000000</td>\n      <td>159.000000</td>\n    </tr>\n    <tr>\n      <th>mean</th>\n      <td>94.102762</td>\n      <td>88.979464</td>\n      <td>92.511245</td>\n      <td>170.911450</td>\n      <td>89.127675</td>\n      <td>172.73751</td>\n      <td>89.332285</td>\n      <td>89.385093</td>\n      <td>92.713238</td>\n      <td>86.884768</td>\n      <td>88.183682</td>\n      <td>90.951907</td>\n      <td>92.396556</td>\n      <td>175.117914</td>\n      <td>85.850152</td>\n      <td>0.005966</td>\n      <td>24.545028</td>\n    </tr>\n    <tr>\n      <th>std</th>\n      <td>2.111289</td>\n      <td>3.092025</td>\n      <td>2.945235</td>\n      <td>4.849014</td>\n      <td>2.270023</td>\n      <td>3.16543</td>\n      <td>2.370221</td>\n      <td>4.150620</td>\n      <td>2.595376</td>\n      <td>4.096936</td>\n      <td>7.259727</td>\n      <td>4.435683</td>\n      <td>7.025554</td>\n      <td>3.209347</td>\n      <td>5.476256</td>\n      <td>0.005178</td>\n      <td>29.673144</td>\n    </tr>\n    <tr>\n      <th>min</th>\n      <td>88.962000</td>\n      <td>73.833000</td>\n      <td>84.687000</td>\n      <td>148.283000</td>\n      <td>83.523000</td>\n      <td>161.88800</td>\n      <td>81.234000</td>\n      <td>73.833000</td>\n      <td>85.520000</td>\n      <td>74.191000</td>\n      <td>79.485000</td>\n      <td>79.537000</td>\n      <td>79.537000</td>\n      <td>148.510000</td>\n      <td>65.330000</td>\n      <td>0.000974</td>\n      <td>3.705907</td>\n    </tr>\n    <tr>\n      <th>25%</th>\n      <td>92.828500</td>\n      <td>87.612000</td>\n      <td>90.528000</td>\n      <td>169.441500</td>\n      <td>87.883500</td>\n      <td>170.93850</td>\n      <td>87.744500</td>\n      <td>88.169500</td>\n      <td>90.884000</td>\n      <td>84.927500</td>\n      <td>83.424500</td>\n      <td>88.604000</td>\n      <td>88.028500</td>\n      <td>173.846500</td>\n      <td>83.784500</td>\n      <td>0.002431</td>\n      <td>11.225850</td>\n    </tr>\n    <tr>\n      <th>50%</th>\n      <td>94.072000</td>\n      <td>89.743000</td>\n      <td>92.812000</td>\n      <td>171.829000</td>\n      <td>89.196000</td>\n      <td>172.64500</td>\n      <td>89.163000</td>\n      <td>89.912000</td>\n      <td>93.096000</td>\n      <td>86.534000</td>\n      <td>85.900000</td>\n      <td>91.032000</td>\n      <td>91.096000</td>\n      <td>175.580000</td>\n      <td>86.073000</td>\n      <td>0.004046</td>\n      <td>14.849373</td>\n    </tr>\n    <tr>\n      <th>75%</th>\n      <td>95.093000</td>\n      <td>90.826000</td>\n      <td>94.675000</td>\n      <td>173.505500</td>\n      <td>90.071000</td>\n      <td>175.00200</td>\n      <td>90.370000</td>\n      <td>91.827000</td>\n      <td>94.570000</td>\n      <td>88.223500</td>\n      <td>89.616500</td>\n      <td>93.359500</td>\n      <td>95.090500</td>\n      <td>177.110000</td>\n      <td>87.774000</td>\n      <td>0.008108</td>\n      <td>22.943502</td>\n    </tr>\n    <tr>\n      <th>max</th>\n      <td>102.252000</td>\n      <td>95.475000</td>\n      <td>100.818000</td>\n      <td>178.625000</td>\n      <td>100.452000</td>\n      <td>186.54100</td>\n      <td>100.452000</td>\n      <td>97.268000</td>\n      <td>100.818000</td>\n      <td>99.019000</td>\n      <td>119.098000</td>\n      <td>105.752000</td>\n      <td>118.902000</td>\n      <td>179.776000</td>\n      <td>99.019000</td>\n      <td>0.024421</td>\n      <td>190.036431</td>\n    </tr>\n  </tbody>\n</table>\n</div>"
     },
     "execution_count": 15,
     "metadata": {},
     "output_type": "execute_result"
    }
   ],
   "source": [
    "df[df.columns[25:42]].describe()"
   ]
  },
  {
   "cell_type": "markdown",
   "metadata": {
    "pycharm": {
     "name": "#%% md\n"
    }
   },
   "source": [
    "Значения имеют разный масштаб - необходима стандартизация данных перед обучением."
   ]
  },
  {
   "cell_type": "markdown",
   "metadata": {
    "pycharm": {
     "name": "#%% md\n"
    }
   },
   "source": [
    "Распределение предсказываемой величины - ширины запрещенной зоны (ШЗЗ):"
   ]
  },
  {
   "cell_type": "code",
   "execution_count": 16,
   "metadata": {
    "collapsed": false,
    "jupyter": {
     "outputs_hidden": false
    },
    "pycharm": {
     "name": "#%%\n"
    }
   },
   "outputs": [],
   "source": [
    "sns.set_context(rc={\"font.size\":12, 'axes.labelsize':16}) # Для красивого построения графиков"
   ]
  },
  {
   "cell_type": "code",
   "execution_count": 17,
   "metadata": {
    "collapsed": false,
    "jupyter": {
     "outputs_hidden": false
    },
    "pycharm": {
     "name": "#%%\n"
    }
   },
   "outputs": [
    {
     "data": {
      "text/plain": "<Figure size 432x288 with 1 Axes>",
      "image/png": "[encoded data removed]"
     },
     "metadata": {
      "needs_background": "light"
     },
     "output_type": "display_data"
    }
   ],
   "source": [
    "sns.histplot(data=df[(df['BG Type']!='cht')], x='Band gap', bins=18)\n",
    "plt.show()\n",
    "#plt.savefig('images/BG_hist.png', dpi=600)"
   ]
  },
  {
   "cell_type": "markdown",
   "metadata": {
    "pycharm": {
     "name": "#%% md\n"
    }
   },
   "source": [
    "Для всех данных получено:\n",
    "\n",
    "<div>\n",
    "<img src=\"images/BG_hist_full.png\" width=\"800\"/>\n",
    "</div>\n",
    "\n",
    "Из гистограммы следует, что величина не распределена непрерывна - наблюдается несколько максимумов. Выясним состав:"
   ]
  },
  {
   "cell_type": "code",
   "execution_count": 18,
   "metadata": {
    "collapsed": false,
    "jupyter": {
     "outputs_hidden": false
    },
    "pycharm": {
     "name": "#%%\n"
    }
   },
   "outputs": [
    {
     "data": {
      "text/plain": "<Figure size 432x288 with 1 Axes>",
      "image/png": "[encoded data removed]"
     },
     "metadata": {
      "needs_background": "light"
     },
     "output_type": "display_data"
    }
   ],
   "source": [
    "sns.histplot(data=df[(df['BG Type']!='cht')&(df['Band gap'].notna())], x='Band gap', hue='Hal', bins=18)\n",
    "plt.show()\n",
    "#plt.savefig('images/BG_halogens_hist.png', dpi=600)"
   ]
  },
  {
   "cell_type": "markdown",
   "metadata": {
    "pycharm": {
     "name": "#%% md\n"
    }
   },
   "source": [
    "Для всех данных получено:\n",
    "\n",
    "<div>\n",
    "<img src=\"images/BG_halogens_hist_full.png\" width=\"800\"/>\n",
    "</div>\n",
    "\n",
    "Каждый характерный диапазон соответствует галогенометаллатам с разным типом атомов галогена. Но максимум иода (I) также щепится на два."
   ]
  },
  {
   "cell_type": "code",
   "execution_count": 19,
   "metadata": {
    "collapsed": false,
    "jupyter": {
     "outputs_hidden": false
    },
    "pycharm": {
     "name": "#%%\n"
    },
    "tags": []
   },
   "outputs": [
    {
     "data": {
      "text/plain": "<Figure size 3000x1800 with 1 Axes>",
      "image/png": "[encoded data removed]"
     },
     "metadata": {
      "needs_background": "light"
     },
     "output_type": "display_data"
    }
   ],
   "source": [
    "def make_anion_formula(metal, halogen): # Функция для создания правильной записи формул анионов\n",
    "    metal = metal.replace(' ', '$_{0.5}$') + '$_{0.5}$' if len(metal) > 2 else metal\n",
    "    halogen = halogen.replace(' ', '$_{2}$') + '$_{2}$' if len(halogen) > 2 else halogen + '$_{4}$'\n",
    "    return metal + halogen\n",
    "\n",
    "aid = df[(df['BG Type']!='cht')&(df['Band gap'].notna())].loc[:,['M(III)', 'Hal', 'Band gap']].copy()\n",
    "aid['Composition'] = [make_anion_formula(met, hal)  for met, hal in zip(aid['M(III)'], aid['Hal'])]\n",
    "plt.figure(figsize=(10, 6), dpi=300)\n",
    "sns.histplot(data=aid, x='Band gap', hue='Composition', bins=18)\n",
    "plt.show()\n",
    "#plt.savefig('images/BG_composition_hist.png', dpi=600)"
   ]
  },
  {
   "cell_type": "markdown",
   "metadata": {
    "pycharm": {
     "name": "#%% md\n"
    }
   },
   "source": [
    "Для всех данных получено:\n",
    "\n",
    "<div>\n",
    "<img src=\"images/BG_composition_hist_full.png\" width=\"1200\"/>\n",
    "</div>\n",
    "\n",
    "Иодидные комплексы имеют разное распределения по ширене запрещенной зоны (ШЗЗ) для висмута и сурьмы"
   ]
  },
  {
   "cell_type": "markdown",
   "metadata": {
    "pycharm": {
     "name": "#%% md\n"
    }
   },
   "source": [
    "Для учета химического состава нами использованы два вида кодирования - модификации Label-encoder и One-hot-encoder (описание см. в начале)."
   ]
  },
  {
   "cell_type": "code",
   "execution_count": 22,
   "metadata": {
    "collapsed": false,
    "jupyter": {
     "outputs_hidden": false
    },
    "pycharm": {
     "name": "#%%\n"
    }
   },
   "outputs": [],
   "source": [
    "# Используется библиотека Plotly для построения интерактивных графиков. Некоторые среды (например PyCharm) могут их не отображать.\n",
    "# В подобном случае - раскомментируйте часть кода ниже:\n",
    "\n",
    "# import plotly.io as pio\n",
    "# pio.renderers.default = \"browser\""
   ]
  },
  {
   "cell_type": "markdown",
   "metadata": {
    "pycharm": {
     "name": "#%% md\n"
    }
   },
   "source": [
    "Далее при анализе данных будут рассматриваться типы запрещенных зон. Для некоторых измерений в источниках не указан тип ШЗЗ (модель по которой ее оценивали).\n",
    "Таких значений:"
   ]
  },
  {
   "cell_type": "code",
   "execution_count": 23,
   "metadata": {
    "collapsed": false,
    "jupyter": {
     "outputs_hidden": false
    },
    "pycharm": {
     "name": "#%%\n"
    }
   },
   "outputs": [
    {
     "data": {
      "text/plain": "6"
     },
     "execution_count": 23,
     "metadata": {},
     "output_type": "execute_result"
    }
   ],
   "source": [
    "df[(df['BG Type'].isna())&(df['Band gap'].notna())].shape[0]"
   ]
  },
  {
   "cell_type": "code",
   "execution_count": 24,
   "metadata": {
    "collapsed": false,
    "jupyter": {
     "outputs_hidden": false
    },
    "pycharm": {
     "name": "#%%\n"
    }
   },
   "outputs": [],
   "source": [
    "# Чтобы избежать ошибок заменим Nan в датасете на unk:\n",
    "for i in df[(df['BG Type'].isna())&(df['Band gap'].notna())].index:\n",
    "    df.loc[i, 'BG Type'] = 'unk'"
   ]
  },
  {
   "cell_type": "markdown",
   "metadata": {
    "pycharm": {
     "name": "#%% md\n"
    }
   },
   "source": [
    "Определим сколько соединений и какого состава имеют разные типы ШЗЗ:"
   ]
  },
  {
   "cell_type": "code",
   "execution_count": 25,
   "metadata": {
    "collapsed": false,
    "jupyter": {
     "outputs_hidden": false
    },
    "pycharm": {
     "name": "#%%\n"
    }
   },
   "outputs": [
    {
     "name": "stdout",
     "output_type": "stream",
     "text": [
      "Bi I 33\n",
      "Bi I 7\n",
      "Bi I 1\n",
      "Bi I 2\n",
      "Bi Cl 1\n",
      "Bi Cl 1\n",
      "Bi Br 4\n",
      "Bi Br 1\n",
      "Bi Br 1\n",
      "Bi Br I 1\n",
      "Sb I 16\n",
      "Sb I 1\n",
      "Sb I 2\n",
      "Sb Cl 2\n",
      "Sb Cl 2\n",
      "Sb Cl 1\n",
      "Sb Cl 1\n",
      "Sb Br 12\n",
      "Sb Br 1\n",
      "Sb Br 1\n",
      "Sb Br I 1\n",
      "Bi Sb I 1\n",
      "Bi Sb Br I 1\n"
     ]
    }
   ],
   "source": [
    "list_of_mht_combination = [] # создам для дальнейшего построения графиков\n",
    "bg_type_dict = {'d': ' direct', 'i': ' indirect', 'cht': ' charge transfer', 'unk': ' unknown type'} # Для красоты в легенде\n",
    "mh_dict_raw_str ={'Bi': 'Bi', 'Sb': 'Sb', 'Bi Sb': 'Sb<sub>0.5</sub>Bi<sub>0.5</sub>',\n",
    "                  'I': 'I<sub>4</sub>', 'Br': '<sub>4</sub>', 'Cl': 'Cl<sub>4</sub>', 'Cl Br': 'Cl<sub>2</sub>Br<sub>2</sub>',\n",
    "                  'Br I': 'Br<sub>2</sub>I<sub>2</sub>' }\n",
    "for m in df['M(III)'].unique():\n",
    "    for h in df['Hal'].unique():\n",
    "        for t in ['d', 'i', 'cht', 'unk']:\n",
    "            name =  mh_dict_raw_str[m]+mh_dict_raw_str[h]+bg_type_dict[t]\n",
    "            counts = df[(df['M(III)']==m)&(df['Hal']==h)&(df['BG Type']==t)&(df['Band gap'].notna())].shape[0]\n",
    "            if counts != 0:\n",
    "                print(m, h, counts)\n",
    "                list_of_mht_combination.append((m, h, t, name))"
   ]
  },
  {
   "cell_type": "code",
   "execution_count": 29,
   "outputs": [],
   "source": [
    "from my_scripts import plotly_graphs"
   ],
   "metadata": {
    "collapsed": false,
    "pycharm": {
     "name": "#%%\n"
    }
   }
  },
  {
   "cell_type": "code",
   "execution_count": 30,
   "metadata": {
    "collapsed": false,
    "jupyter": {
     "outputs_hidden": false
    },
    "pycharm": {
     "name": "#%%\n"
    }
   },
   "outputs": [],
   "source": [
    "# Зависимость ШЗЗ от среднего Hal...Hal расстояния\n",
    "plotly_graphs(list_of_mht_combination, 'aver Hal...Hal', 'Band gap', df=df, save=False, name_to_save='BG_vs_avHH')"
   ]
  },
  {
   "cell_type": "markdown",
   "metadata": {
    "pycharm": {
     "name": "#%% md\n"
    }
   },
   "source": [
    "Для всех данных получено:\n",
    "\n",
    "<div>\n",
    "<img src=\"images/BG_vs_avHH_full.png\" width=\"800\"/>\n",
    "</div>"
   ]
  },
  {
   "cell_type": "code",
   "execution_count": 31,
   "metadata": {
    "collapsed": false,
    "jupyter": {
     "outputs_hidden": false
    },
    "pycharm": {
     "name": "#%%\n"
    }
   },
   "outputs": [],
   "source": [
    "# Зависимость ШЗЗ от минимального Hal...Hal расстояния\n",
    "plotly_graphs(list_of_mht_combination, 'min Hal...Hal', 'Band gap', df=df, save=False, name_to_save='BG_vs_minHH')"
   ]
  },
  {
   "cell_type": "markdown",
   "metadata": {
    "pycharm": {
     "name": "#%% md\n"
    }
   },
   "source": [
    "Для всех данных получено:\n",
    "\n",
    "<div>\n",
    "<img src=\"images/BG_vs_minHH_full.png\" width=\"800\"/>\n",
    "</div>\n",
    "\n",
    "Подозрительно выбивающиеся значения наблюдаются для BAYFOZ, IMUHEG, NAXWUI"
   ]
  },
  {
   "cell_type": "code",
   "execution_count": 32,
   "metadata": {
    "collapsed": false,
    "jupyter": {
     "outputs_hidden": false
    },
    "pycharm": {
     "name": "#%%\n"
    }
   },
   "outputs": [],
   "source": [
    "# Пока отметим их\n",
    "\n",
    "# На время, пока доступна ограниченная часть датасета\n",
    "\n",
    "stange_bg_values = [i for i in df[df['REFCODE'].isin(['BAYFOZ', 'IMUHEG', 'NAXWUI'])].index]"
   ]
  },
  {
   "cell_type": "code",
   "execution_count": 33,
   "metadata": {
    "collapsed": false,
    "jupyter": {
     "outputs_hidden": false
    },
    "pycharm": {
     "name": "#%%\n"
    }
   },
   "outputs": [],
   "source": [
    "# Зависимость ШЗЗ от показателя степени искажения октаэдров delta d\n",
    "plotly_graphs(list_of_mht_combination, 'delta d', 'Band gap', df=df, x_range=(0.0, 0.03), dx0=0., dx=0.005, leg_pos=None, save=False, name_to_save='BG_vs_dd')"
   ]
  },
  {
   "cell_type": "markdown",
   "metadata": {
    "pycharm": {
     "name": "#%% md\n"
    }
   },
   "source": [
    "Для всех данных:\n",
    "\n",
    "<div>\n",
    "<img src=\"images/BG_vs_minHH_full.png\" width=\"800\"/>\n",
    "</div>"
   ]
  },
  {
   "cell_type": "code",
   "execution_count": 34,
   "metadata": {
    "collapsed": false,
    "jupyter": {
     "outputs_hidden": false
    },
    "pycharm": {
     "name": "#%%\n"
    }
   },
   "outputs": [],
   "source": [
    "# Зависимость ШЗЗ от показателя степени искажения октаэдров sigma^2\n",
    "plotly_graphs(list_of_mht_combination, 'sigma^2', 'Band gap', df=df, x_range=(0.0, 160), dx0=0., dx=20, leg_pos=None, save=False, name_to_save='BG_vs_sugma2')"
   ]
  },
  {
   "cell_type": "markdown",
   "metadata": {
    "pycharm": {
     "name": "#%% md\n"
    }
   },
   "source": [
    "Для всех данных получено:\n",
    "\n",
    "<div>\n",
    "<img src=\"images/BG_vs_minHH_full.png\" width=\"800\"/>\n",
    "</div>\n",
    "\n",
    "В целом, с увеличением показателей степени искжения октаэдров ШЗЗ растет"
   ]
  },
  {
   "cell_type": "code",
   "execution_count": 35,
   "metadata": {
    "collapsed": false,
    "jupyter": {
     "outputs_hidden": false
    },
    "pycharm": {
     "name": "#%%\n"
    }
   },
   "outputs": [],
   "source": [
    "# Взаимосвязь показателей степени искажения октаэдров delta d и sigma^2\n",
    "plotly_graphs(list_of_mht_combination, 'delta d', 'sigma^2', df=df, x_range=(0.0, 0.025), dx0=0., dx=0.005, y_range=(0.0, 160), dy0=0, dy=20, leg_pos=dict(x=0.8), save=True, name_to_save='dd_vs_sigma2_full')"
   ]
  },
  {
   "cell_type": "markdown",
   "metadata": {
    "pycharm": {
     "name": "#%% md\n"
    }
   },
   "source": [
    "Для всех данных получено:\n",
    "\n",
    "<div>\n",
    "<img src=\"images/dd_vs_sigma2_full.png\" width=\"800\"/>\n",
    "</div>"
   ]
  },
  {
   "cell_type": "code",
   "execution_count": 36,
   "metadata": {
    "collapsed": false,
    "jupyter": {
     "outputs_hidden": false
    },
    "pycharm": {
     "name": "#%%\n"
    }
   },
   "outputs": [],
   "source": [
    "# Зависимость ШЗЗ от дескриптора N/aver-d\n",
    "plotly_graphs(list_of_mht_combination, 'N/aver-d', 'Band gap', df=df, x_range=(-0.1, 2.15), dx0=-0.25, dx=0.15,leg_pos=None, save=False, name_to_save='BG_vs_Nd')"
   ]
  },
  {
   "cell_type": "markdown",
   "metadata": {
    "tags": [],
    "pycharm": {
     "name": "#%% md\n"
    }
   },
   "source": [
    "Для всех данных получено:\n",
    "\n",
    "<div>\n",
    "<img src=\"images/dd_vs_sigma2_full.png\" width=\"800\"/>\n",
    "</div>\n",
    "\n",
    "Видна дескритизация значений, что связано с тем, что N-связей почти целое число (не очень хорошо)"
   ]
  },
  {
   "cell_type": "code",
   "execution_count": 37,
   "metadata": {
    "collapsed": false,
    "jupyter": {
     "outputs_hidden": false
    },
    "pycharm": {
     "name": "#%%\n"
    }
   },
   "outputs": [],
   "source": [
    "# Зависимость ШЗЗ от угла t1-Hal - M -Hal-t1\n",
    "plotly_graphs(list_of_mht_combination, 't1-t2', 'Band gap', df=df, x_range=(85, 115), dx0=0, dx=5,leg_pos=None, save=False, name_to_save='BG_vs_t1HMHt2_angl')"
   ]
  },
  {
   "cell_type": "markdown",
   "metadata": {
    "pycharm": {
     "name": "#%% md\n"
    }
   },
   "source": [
    "Для всех значений получено:\n",
    "\n",
    "<div>\n",
    "<img src=\"images/BG_vs_t1HMHt2_angl_full.png\" width=\"800\"/>\n",
    "</div>"
   ]
  },
  {
   "cell_type": "markdown",
   "metadata": {
    "pycharm": {
     "name": "#%% md\n"
    }
   },
   "source": [
    "Посмотрим на корреляцию признаков"
   ]
  },
  {
   "cell_type": "code",
   "execution_count": 38,
   "metadata": {
    "collapsed": false,
    "jupyter": {
     "outputs_hidden": false
    },
    "pycharm": {
     "name": "#%%\n"
    }
   },
   "outputs": [
    {
     "data": {
      "text/plain": "                                M        X       Bi       Sb         I  \\\nM                             0.0  0.27282 -1.00000  1.00000 -0.302279   \nX                             0.0  0.00000 -0.27282  0.27282 -0.897929   \nBi                            0.0  0.00000  0.00000 -1.00000  0.302279   \nSb                            0.0  0.00000  0.00000  0.00000 -0.302279   \nI                             0.0  0.00000  0.00000  0.00000  0.000000   \nBr                            0.0  0.00000  0.00000  0.00000  0.000000   \nCl                            0.0  0.00000  0.00000  0.00000  0.000000   \nTemperature                   0.0  0.00000  0.00000  0.00000  0.000000   \nmin Hal...Hal                 0.0  0.00000  0.00000  0.00000  0.000000   \naver Hal...Hal                0.0  0.00000  0.00000  0.00000  0.000000   \nNumber of Hal...Hal contacts  0.0  0.00000  0.00000  0.00000  0.000000   \nN/aver-d                      0.0  0.00000  0.00000  0.00000  0.000000   \nHal-t1                        0.0  0.00000  0.00000  0.00000  0.000000   \nHal-t2                        0.0  0.00000  0.00000  0.00000  0.000000   \nHal-d1                        0.0  0.00000  0.00000  0.00000  0.000000   \nHal-d2                        0.0  0.00000  0.00000  0.00000  0.000000   \nHal-d3                        0.0  0.00000  0.00000  0.00000  0.000000   \nHal-d4                        0.0  0.00000  0.00000  0.00000  0.000000   \nt1-t2                         0.0  0.00000  0.00000  0.00000  0.000000   \nt1-d1                         0.0  0.00000  0.00000  0.00000  0.000000   \nt1-d2                         0.0  0.00000  0.00000  0.00000  0.000000   \nt1-d3                         0.0  0.00000  0.00000  0.00000  0.000000   \nt1-d4                         0.0  0.00000  0.00000  0.00000  0.000000   \nt2-d1                         0.0  0.00000  0.00000  0.00000  0.000000   \nt2-d2                         0.0  0.00000  0.00000  0.00000  0.000000   \nt2-d3                         0.0  0.00000  0.00000  0.00000  0.000000   \nt2-d4                         0.0  0.00000  0.00000  0.00000  0.000000   \nd1-d2                         0.0  0.00000  0.00000  0.00000  0.000000   \nd1-d3                         0.0  0.00000  0.00000  0.00000  0.000000   \nd1-d4                         0.0  0.00000  0.00000  0.00000  0.000000   \nd2-d3                         0.0  0.00000  0.00000  0.00000  0.000000   \nd2-d4                         0.0  0.00000  0.00000  0.00000  0.000000   \nd3-d4                         0.0  0.00000  0.00000  0.00000  0.000000   \ndelta d                       0.0  0.00000  0.00000  0.00000  0.000000   \nsigma^2                       0.0  0.00000  0.00000  0.00000  0.000000   \n\n                                    Br        Cl  Temperature  min Hal...Hal  \\\nM                             0.161431  0.193587    -0.056206      -0.219334   \nX                             0.213160  0.797997     0.041499      -0.258782   \nBi                           -0.161431 -0.193587     0.056206       0.219334   \nSb                            0.161431  0.193587    -0.056206      -0.219334   \nI                            -0.520033 -0.618352    -0.038033       0.312895   \nBr                            0.000000 -0.329150     0.000949      -0.211663   \nCl                            0.000000  0.000000     0.046946      -0.153460   \nTemperature                   0.000000  0.000000     0.000000       0.143592   \nmin Hal...Hal                 0.000000  0.000000     0.000000       0.000000   \naver Hal...Hal                0.000000  0.000000     0.000000       0.000000   \nNumber of Hal...Hal contacts  0.000000  0.000000     0.000000       0.000000   \nN/aver-d                      0.000000  0.000000     0.000000       0.000000   \nHal-t1                        0.000000  0.000000     0.000000       0.000000   \nHal-t2                        0.000000  0.000000     0.000000       0.000000   \nHal-d1                        0.000000  0.000000     0.000000       0.000000   \nHal-d2                        0.000000  0.000000     0.000000       0.000000   \nHal-d3                        0.000000  0.000000     0.000000       0.000000   \nHal-d4                        0.000000  0.000000     0.000000       0.000000   \nt1-t2                         0.000000  0.000000     0.000000       0.000000   \nt1-d1                         0.000000  0.000000     0.000000       0.000000   \nt1-d2                         0.000000  0.000000     0.000000       0.000000   \nt1-d3                         0.000000  0.000000     0.000000       0.000000   \nt1-d4                         0.000000  0.000000     0.000000       0.000000   \nt2-d1                         0.000000  0.000000     0.000000       0.000000   \nt2-d2                         0.000000  0.000000     0.000000       0.000000   \nt2-d3                         0.000000  0.000000     0.000000       0.000000   \nt2-d4                         0.000000  0.000000     0.000000       0.000000   \nd1-d2                         0.000000  0.000000     0.000000       0.000000   \nd1-d3                         0.000000  0.000000     0.000000       0.000000   \nd1-d4                         0.000000  0.000000     0.000000       0.000000   \nd2-d3                         0.000000  0.000000     0.000000       0.000000   \nd2-d4                         0.000000  0.000000     0.000000       0.000000   \nd3-d4                         0.000000  0.000000     0.000000       0.000000   \ndelta d                       0.000000  0.000000     0.000000       0.000000   \nsigma^2                       0.000000  0.000000     0.000000       0.000000   \n\n                              aver Hal...Hal  ...     t2-d3     t2-d4  \\\nM                                  -0.240866  ... -0.262318 -0.301585   \nX                                  -0.353693  ... -0.314857 -0.315201   \nBi                                  0.240866  ...  0.262318  0.301585   \nSb                                 -0.240866  ... -0.262318 -0.301585   \nI                                   0.400072  ...  0.294003  0.358512   \nBr                                 -0.232915  ... -0.023590 -0.242961   \nCl                                 -0.228498  ... -0.310391 -0.185714   \nTemperature                         0.107956  ... -0.023192  0.001663   \nmin Hal...Hal                       0.851182  ...  0.110836  0.202076   \naver Hal...Hal                      0.000000  ...  0.142617  0.215304   \nNumber of Hal...Hal contacts        0.000000  ...  0.040108 -0.103356   \nN/aver-d                            0.000000  ... -0.005949 -0.147897   \nHal-t1                              0.000000  ...  0.257364  0.297739   \nHal-t2                              0.000000  ...  0.320544  0.321529   \nHal-d1                              0.000000  ...  0.047249  0.053345   \nHal-d2                              0.000000  ...  0.258523  0.308616   \nHal-d3                              0.000000  ...  0.081155  0.182982   \nHal-d4                              0.000000  ...  0.221682  0.302332   \nt1-t2                               0.000000  ...  0.154804  0.135824   \nt1-d1                               0.000000  ...  0.069230  0.294507   \nt1-d2                               0.000000  ...  0.345549  0.358988   \nt1-d3                               0.000000  ... -0.014130 -0.027113   \nt1-d4                               0.000000  ...  0.163391 -0.149355   \nt2-d1                               0.000000  ...  0.112063 -0.067824   \nt2-d2                               0.000000  ... -0.203568 -0.058821   \nt2-d3                               0.000000  ...  0.000000  0.116572   \nt2-d4                               0.000000  ...  0.000000  0.000000   \nd1-d2                               0.000000  ...  0.000000  0.000000   \nd1-d3                               0.000000  ...  0.000000  0.000000   \nd1-d4                               0.000000  ...  0.000000  0.000000   \nd2-d3                               0.000000  ...  0.000000  0.000000   \nd2-d4                               0.000000  ...  0.000000  0.000000   \nd3-d4                               0.000000  ...  0.000000  0.000000   \ndelta d                             0.000000  ...  0.000000  0.000000   \nsigma^2                             0.000000  ...  0.000000  0.000000   \n\n                                 d1-d2     d1-d3     d1-d4     d2-d3  \\\nM                             0.123673  0.312629  0.017614  0.119893   \nX                            -0.136324  0.552656  0.089050  0.265473   \nBi                           -0.123673 -0.312629 -0.017614 -0.119893   \nSb                            0.123673  0.312629  0.017614  0.119893   \nI                             0.119336 -0.530697 -0.108225 -0.288372   \nBr                            0.038838  0.127439  0.069911  0.166850   \nCl                           -0.170520  0.476990  0.060047  0.169120   \nTemperature                  -0.065324  0.068001  0.016540  0.007946   \nmin Hal...Hal                -0.116400 -0.209652  0.022963 -0.079834   \naver Hal...Hal               -0.081067 -0.238951 -0.012540 -0.082299   \nNumber of Hal...Hal contacts  0.212159 -0.058796 -0.034553 -0.007678   \nN/aver-d                      0.200786  0.010432 -0.018853  0.021048   \nHal-t1                        0.062177 -0.525214 -0.059795 -0.218935   \nHal-t2                        0.062166 -0.516468 -0.043536 -0.245033   \nHal-d1                        0.118961 -0.298848 -0.052285 -0.140239   \nHal-d2                        0.062356 -0.473394 -0.026852 -0.256127   \nHal-d3                        0.101643 -0.117444 -0.086546 -0.000177   \nHal-d4                        0.072157 -0.400336 -0.122152 -0.161000   \nt1-t2                         0.016160 -0.534770  0.100146 -0.045388   \nt1-d1                        -0.010773 -0.407506 -0.122483 -0.140309   \nt1-d2                        -0.125662 -0.360104  0.103855 -0.223586   \nt1-d3                         0.215923  0.012628 -0.200742 -0.363034   \nt1-d4                         0.206933  0.016338 -0.178325 -0.407931   \nt2-d1                         0.276404  0.153826 -0.249746 -0.029317   \nt2-d2                         0.046277  0.269351 -0.390020 -0.033382   \nt2-d3                         0.096697 -0.492560  0.065704 -0.232946   \nt2-d4                        -0.265466 -0.250353 -0.134152  0.043712   \nd1-d2                         0.000000 -0.061813 -0.464521 -0.447702   \nd1-d3                         0.000000  0.000000 -0.021812  0.223488   \nd1-d4                         0.000000  0.000000  0.000000  0.442158   \nd2-d3                         0.000000  0.000000  0.000000  0.000000   \nd2-d4                         0.000000  0.000000  0.000000  0.000000   \nd3-d4                         0.000000  0.000000  0.000000  0.000000   \ndelta d                       0.000000  0.000000  0.000000  0.000000   \nsigma^2                       0.000000  0.000000  0.000000  0.000000   \n\n                                 d2-d4     d3-d4   delta d   sigma^2  \nM                             0.132240  0.037116  0.552646  0.141192  \nX                             0.102500 -0.227694  0.640938  0.302404  \nBi                           -0.132240 -0.037116 -0.552646 -0.141192  \nSb                            0.132240  0.037116  0.552646  0.141192  \nI                            -0.146587  0.214008 -0.655590 -0.245502  \nBr                            0.166009 -0.036394  0.272069 -0.121899  \nCl                            0.015744 -0.203407  0.477568  0.375108  \nTemperature                   0.064036 -0.043890 -0.004827  0.002330  \nmin Hal...Hal                -0.035064 -0.028351 -0.287591 -0.066722  \naver Hal...Hal               -0.053608 -0.015631 -0.338840 -0.105251  \nNumber of Hal...Hal contacts  0.061127  0.089414 -0.106537 -0.205046  \nN/aver-d                      0.071663  0.070745 -0.023345 -0.152033  \nHal-t1                       -0.074725  0.143879 -0.756425 -0.200742  \nHal-t2                       -0.135294  0.135023 -0.743400 -0.182517  \nHal-d1                        0.050609  0.285979 -0.263699 -0.204530  \nHal-d2                       -0.121809  0.150245 -0.571429 -0.219210  \nHal-d3                       -0.259737 -0.026494 -0.082476  0.021546  \nHal-d4                       -0.121539  0.115351 -0.562837 -0.207984  \nt1-t2                         0.195266  0.122400 -0.321250 -0.015895  \nt1-d1                         0.014483  0.171936 -0.404857 -0.230375  \nt1-d2                        -0.188554 -0.049985 -0.495739 -0.037971  \nt1-d3                         0.049989  0.428332 -0.160279 -0.622307  \nt1-d4                        -0.091331  0.231761 -0.034708 -0.285702  \nt2-d1                        -0.065619  0.058727  0.083712 -0.313480  \nt2-d2                        -0.135930  0.035593  0.161787 -0.129465  \nt2-d3                         0.012806  0.091315 -0.303766 -0.191620  \nt2-d4                        -0.282270 -0.141040 -0.332303  0.056605  \nd1-d2                         0.118785  0.540381 -0.024902 -0.186145  \nd1-d3                        -0.076831 -0.197898  0.520177  0.098455  \nd1-d4                         0.176816 -0.405988  0.052190  0.101113  \nd2-d3                         0.036561 -0.649859  0.275585  0.270640  \nd2-d4                         0.000000  0.181232  0.092728 -0.180510  \nd3-d4                         0.000000  0.000000 -0.134140 -0.334246  \ndelta d                       0.000000  0.000000  0.000000  0.234774  \nsigma^2                       0.000000  0.000000  0.000000  0.000000  \n\n[35 rows x 35 columns]",
      "text/html": "<div>\n<style scoped>\n    .dataframe tbody tr th:only-of-type {\n        vertical-align: middle;\n    }\n\n    .dataframe tbody tr th {\n        vertical-align: top;\n    }\n\n    .dataframe thead th {\n        text-align: right;\n    }\n</style>\n<table border=\"1\" class=\"dataframe\">\n  <thead>\n    <tr style=\"text-align: right;\">\n      <th></th>\n      <th>M</th>\n      <th>X</th>\n      <th>Bi</th>\n      <th>Sb</th>\n      <th>I</th>\n      <th>Br</th>\n      <th>Cl</th>\n      <th>Temperature</th>\n      <th>min Hal...Hal</th>\n      <th>aver Hal...Hal</th>\n      <th>...</th>\n      <th>t2-d3</th>\n      <th>t2-d4</th>\n      <th>d1-d2</th>\n      <th>d1-d3</th>\n      <th>d1-d4</th>\n      <th>d2-d3</th>\n      <th>d2-d4</th>\n      <th>d3-d4</th>\n      <th>delta d</th>\n      <th>sigma^2</th>\n    </tr>\n  </thead>\n  <tbody>\n    <tr>\n      <th>M</th>\n      <td>0.0</td>\n      <td>0.27282</td>\n      <td>-1.00000</td>\n      <td>1.00000</td>\n      <td>-0.302279</td>\n      <td>0.161431</td>\n      <td>0.193587</td>\n      <td>-0.056206</td>\n      <td>-0.219334</td>\n      <td>-0.240866</td>\n      <td>...</td>\n      <td>-0.262318</td>\n      <td>-0.301585</td>\n      <td>0.123673</td>\n      <td>0.312629</td>\n      <td>0.017614</td>\n      <td>0.119893</td>\n      <td>0.132240</td>\n      <td>0.037116</td>\n      <td>0.552646</td>\n      <td>0.141192</td>\n    </tr>\n    <tr>\n      <th>X</th>\n      <td>0.0</td>\n      <td>0.00000</td>\n      <td>-0.27282</td>\n      <td>0.27282</td>\n      <td>-0.897929</td>\n      <td>0.213160</td>\n      <td>0.797997</td>\n      <td>0.041499</td>\n      <td>-0.258782</td>\n      <td>-0.353693</td>\n      <td>...</td>\n      <td>-0.314857</td>\n      <td>-0.315201</td>\n      <td>-0.136324</td>\n      <td>0.552656</td>\n      <td>0.089050</td>\n      <td>0.265473</td>\n      <td>0.102500</td>\n      <td>-0.227694</td>\n      <td>0.640938</td>\n      <td>0.302404</td>\n    </tr>\n    <tr>\n      <th>Bi</th>\n      <td>0.0</td>\n      <td>0.00000</td>\n      <td>0.00000</td>\n      <td>-1.00000</td>\n      <td>0.302279</td>\n      <td>-0.161431</td>\n      <td>-0.193587</td>\n      <td>0.056206</td>\n      <td>0.219334</td>\n      <td>0.240866</td>\n      <td>...</td>\n      <td>0.262318</td>\n      <td>0.301585</td>\n      <td>-0.123673</td>\n      <td>-0.312629</td>\n      <td>-0.017614</td>\n      <td>-0.119893</td>\n      <td>-0.132240</td>\n      <td>-0.037116</td>\n      <td>-0.552646</td>\n      <td>-0.141192</td>\n    </tr>\n    <tr>\n      <th>Sb</th>\n      <td>0.0</td>\n      <td>0.00000</td>\n      <td>0.00000</td>\n      <td>0.00000</td>\n      <td>-0.302279</td>\n      <td>0.161431</td>\n      <td>0.193587</td>\n      <td>-0.056206</td>\n      <td>-0.219334</td>\n      <td>-0.240866</td>\n      <td>...</td>\n      <td>-0.262318</td>\n      <td>-0.301585</td>\n      <td>0.123673</td>\n      <td>0.312629</td>\n      <td>0.017614</td>\n      <td>0.119893</td>\n      <td>0.132240</td>\n      <td>0.037116</td>\n      <td>0.552646</td>\n      <td>0.141192</td>\n    </tr>\n    <tr>\n      <th>I</th>\n      <td>0.0</td>\n      <td>0.00000</td>\n      <td>0.00000</td>\n      <td>0.00000</td>\n      <td>0.000000</td>\n      <td>-0.520033</td>\n      <td>-0.618352</td>\n      <td>-0.038033</td>\n      <td>0.312895</td>\n      <td>0.400072</td>\n      <td>...</td>\n      <td>0.294003</td>\n      <td>0.358512</td>\n      <td>0.119336</td>\n      <td>-0.530697</td>\n      <td>-0.108225</td>\n      <td>-0.288372</td>\n      <td>-0.146587</td>\n      <td>0.214008</td>\n      <td>-0.655590</td>\n      <td>-0.245502</td>\n    </tr>\n    <tr>\n      <th>Br</th>\n      <td>0.0</td>\n      <td>0.00000</td>\n      <td>0.00000</td>\n      <td>0.00000</td>\n      <td>0.000000</td>\n      <td>0.000000</td>\n      <td>-0.329150</td>\n      <td>0.000949</td>\n      <td>-0.211663</td>\n      <td>-0.232915</td>\n      <td>...</td>\n      <td>-0.023590</td>\n      <td>-0.242961</td>\n      <td>0.038838</td>\n      <td>0.127439</td>\n      <td>0.069911</td>\n      <td>0.166850</td>\n      <td>0.166009</td>\n      <td>-0.036394</td>\n      <td>0.272069</td>\n      <td>-0.121899</td>\n    </tr>\n    <tr>\n      <th>Cl</th>\n      <td>0.0</td>\n      <td>0.00000</td>\n      <td>0.00000</td>\n      <td>0.00000</td>\n      <td>0.000000</td>\n      <td>0.000000</td>\n      <td>0.000000</td>\n      <td>0.046946</td>\n      <td>-0.153460</td>\n      <td>-0.228498</td>\n      <td>...</td>\n      <td>-0.310391</td>\n      <td>-0.185714</td>\n      <td>-0.170520</td>\n      <td>0.476990</td>\n      <td>0.060047</td>\n      <td>0.169120</td>\n      <td>0.015744</td>\n      <td>-0.203407</td>\n      <td>0.477568</td>\n      <td>0.375108</td>\n    </tr>\n    <tr>\n      <th>Temperature</th>\n      <td>0.0</td>\n      <td>0.00000</td>\n      <td>0.00000</td>\n      <td>0.00000</td>\n      <td>0.000000</td>\n      <td>0.000000</td>\n      <td>0.000000</td>\n      <td>0.000000</td>\n      <td>0.143592</td>\n      <td>0.107956</td>\n      <td>...</td>\n      <td>-0.023192</td>\n      <td>0.001663</td>\n      <td>-0.065324</td>\n      <td>0.068001</td>\n      <td>0.016540</td>\n      <td>0.007946</td>\n      <td>0.064036</td>\n      <td>-0.043890</td>\n      <td>-0.004827</td>\n      <td>0.002330</td>\n    </tr>\n    <tr>\n      <th>min Hal...Hal</th>\n      <td>0.0</td>\n      <td>0.00000</td>\n      <td>0.00000</td>\n      <td>0.00000</td>\n      <td>0.000000</td>\n      <td>0.000000</td>\n      <td>0.000000</td>\n      <td>0.000000</td>\n      <td>0.000000</td>\n      <td>0.851182</td>\n      <td>...</td>\n      <td>0.110836</td>\n      <td>0.202076</td>\n      <td>-0.116400</td>\n      <td>-0.209652</td>\n      <td>0.022963</td>\n      <td>-0.079834</td>\n      <td>-0.035064</td>\n      <td>-0.028351</td>\n      <td>-0.287591</td>\n      <td>-0.066722</td>\n    </tr>\n    <tr>\n      <th>aver Hal...Hal</th>\n      <td>0.0</td>\n      <td>0.00000</td>\n      <td>0.00000</td>\n      <td>0.00000</td>\n      <td>0.000000</td>\n      <td>0.000000</td>\n      <td>0.000000</td>\n      <td>0.000000</td>\n      <td>0.000000</td>\n      <td>0.000000</td>\n      <td>...</td>\n      <td>0.142617</td>\n      <td>0.215304</td>\n      <td>-0.081067</td>\n      <td>-0.238951</td>\n      <td>-0.012540</td>\n      <td>-0.082299</td>\n      <td>-0.053608</td>\n      <td>-0.015631</td>\n      <td>-0.338840</td>\n      <td>-0.105251</td>\n    </tr>\n    <tr>\n      <th>Number of Hal...Hal contacts</th>\n      <td>0.0</td>\n      <td>0.00000</td>\n      <td>0.00000</td>\n      <td>0.00000</td>\n      <td>0.000000</td>\n      <td>0.000000</td>\n      <td>0.000000</td>\n      <td>0.000000</td>\n      <td>0.000000</td>\n      <td>0.000000</td>\n      <td>...</td>\n      <td>0.040108</td>\n      <td>-0.103356</td>\n      <td>0.212159</td>\n      <td>-0.058796</td>\n      <td>-0.034553</td>\n      <td>-0.007678</td>\n      <td>0.061127</td>\n      <td>0.089414</td>\n      <td>-0.106537</td>\n      <td>-0.205046</td>\n    </tr>\n    <tr>\n      <th>N/aver-d</th>\n      <td>0.0</td>\n      <td>0.00000</td>\n      <td>0.00000</td>\n      <td>0.00000</td>\n      <td>0.000000</td>\n      <td>0.000000</td>\n      <td>0.000000</td>\n      <td>0.000000</td>\n      <td>0.000000</td>\n      <td>0.000000</td>\n      <td>...</td>\n      <td>-0.005949</td>\n      <td>-0.147897</td>\n      <td>0.200786</td>\n      <td>0.010432</td>\n      <td>-0.018853</td>\n      <td>0.021048</td>\n      <td>0.071663</td>\n      <td>0.070745</td>\n      <td>-0.023345</td>\n      <td>-0.152033</td>\n    </tr>\n    <tr>\n      <th>Hal-t1</th>\n      <td>0.0</td>\n      <td>0.00000</td>\n      <td>0.00000</td>\n      <td>0.00000</td>\n      <td>0.000000</td>\n      <td>0.000000</td>\n      <td>0.000000</td>\n      <td>0.000000</td>\n      <td>0.000000</td>\n      <td>0.000000</td>\n      <td>...</td>\n      <td>0.257364</td>\n      <td>0.297739</td>\n      <td>0.062177</td>\n      <td>-0.525214</td>\n      <td>-0.059795</td>\n      <td>-0.218935</td>\n      <td>-0.074725</td>\n      <td>0.143879</td>\n      <td>-0.756425</td>\n      <td>-0.200742</td>\n    </tr>\n    <tr>\n      <th>Hal-t2</th>\n      <td>0.0</td>\n      <td>0.00000</td>\n      <td>0.00000</td>\n      <td>0.00000</td>\n      <td>0.000000</td>\n      <td>0.000000</td>\n      <td>0.000000</td>\n      <td>0.000000</td>\n      <td>0.000000</td>\n      <td>0.000000</td>\n      <td>...</td>\n      <td>0.320544</td>\n      <td>0.321529</td>\n      <td>0.062166</td>\n      <td>-0.516468</td>\n      <td>-0.043536</td>\n      <td>-0.245033</td>\n      <td>-0.135294</td>\n      <td>0.135023</td>\n      <td>-0.743400</td>\n      <td>-0.182517</td>\n    </tr>\n    <tr>\n      <th>Hal-d1</th>\n      <td>0.0</td>\n      <td>0.00000</td>\n      <td>0.00000</td>\n      <td>0.00000</td>\n      <td>0.000000</td>\n      <td>0.000000</td>\n      <td>0.000000</td>\n      <td>0.000000</td>\n      <td>0.000000</td>\n      <td>0.000000</td>\n      <td>...</td>\n      <td>0.047249</td>\n      <td>0.053345</td>\n      <td>0.118961</td>\n      <td>-0.298848</td>\n      <td>-0.052285</td>\n      <td>-0.140239</td>\n      <td>0.050609</td>\n      <td>0.285979</td>\n      <td>-0.263699</td>\n      <td>-0.204530</td>\n    </tr>\n    <tr>\n      <th>Hal-d2</th>\n      <td>0.0</td>\n      <td>0.00000</td>\n      <td>0.00000</td>\n      <td>0.00000</td>\n      <td>0.000000</td>\n      <td>0.000000</td>\n      <td>0.000000</td>\n      <td>0.000000</td>\n      <td>0.000000</td>\n      <td>0.000000</td>\n      <td>...</td>\n      <td>0.258523</td>\n      <td>0.308616</td>\n      <td>0.062356</td>\n      <td>-0.473394</td>\n      <td>-0.026852</td>\n      <td>-0.256127</td>\n      <td>-0.121809</td>\n      <td>0.150245</td>\n      <td>-0.571429</td>\n      <td>-0.219210</td>\n    </tr>\n    <tr>\n      <th>Hal-d3</th>\n      <td>0.0</td>\n      <td>0.00000</td>\n      <td>0.00000</td>\n      <td>0.00000</td>\n      <td>0.000000</td>\n      <td>0.000000</td>\n      <td>0.000000</td>\n      <td>0.000000</td>\n      <td>0.000000</td>\n      <td>0.000000</td>\n      <td>...</td>\n      <td>0.081155</td>\n      <td>0.182982</td>\n      <td>0.101643</td>\n      <td>-0.117444</td>\n      <td>-0.086546</td>\n      <td>-0.000177</td>\n      <td>-0.259737</td>\n      <td>-0.026494</td>\n      <td>-0.082476</td>\n      <td>0.021546</td>\n    </tr>\n    <tr>\n      <th>Hal-d4</th>\n      <td>0.0</td>\n      <td>0.00000</td>\n      <td>0.00000</td>\n      <td>0.00000</td>\n      <td>0.000000</td>\n      <td>0.000000</td>\n      <td>0.000000</td>\n      <td>0.000000</td>\n      <td>0.000000</td>\n      <td>0.000000</td>\n      <td>...</td>\n      <td>0.221682</td>\n      <td>0.302332</td>\n      <td>0.072157</td>\n      <td>-0.400336</td>\n      <td>-0.122152</td>\n      <td>-0.161000</td>\n      <td>-0.121539</td>\n      <td>0.115351</td>\n      <td>-0.562837</td>\n      <td>-0.207984</td>\n    </tr>\n    <tr>\n      <th>t1-t2</th>\n      <td>0.0</td>\n      <td>0.00000</td>\n      <td>0.00000</td>\n      <td>0.00000</td>\n      <td>0.000000</td>\n      <td>0.000000</td>\n      <td>0.000000</td>\n      <td>0.000000</td>\n      <td>0.000000</td>\n      <td>0.000000</td>\n      <td>...</td>\n      <td>0.154804</td>\n      <td>0.135824</td>\n      <td>0.016160</td>\n      <td>-0.534770</td>\n      <td>0.100146</td>\n      <td>-0.045388</td>\n      <td>0.195266</td>\n      <td>0.122400</td>\n      <td>-0.321250</td>\n      <td>-0.015895</td>\n    </tr>\n    <tr>\n      <th>t1-d1</th>\n      <td>0.0</td>\n      <td>0.00000</td>\n      <td>0.00000</td>\n      <td>0.00000</td>\n      <td>0.000000</td>\n      <td>0.000000</td>\n      <td>0.000000</td>\n      <td>0.000000</td>\n      <td>0.000000</td>\n      <td>0.000000</td>\n      <td>...</td>\n      <td>0.069230</td>\n      <td>0.294507</td>\n      <td>-0.010773</td>\n      <td>-0.407506</td>\n      <td>-0.122483</td>\n      <td>-0.140309</td>\n      <td>0.014483</td>\n      <td>0.171936</td>\n      <td>-0.404857</td>\n      <td>-0.230375</td>\n    </tr>\n    <tr>\n      <th>t1-d2</th>\n      <td>0.0</td>\n      <td>0.00000</td>\n      <td>0.00000</td>\n      <td>0.00000</td>\n      <td>0.000000</td>\n      <td>0.000000</td>\n      <td>0.000000</td>\n      <td>0.000000</td>\n      <td>0.000000</td>\n      <td>0.000000</td>\n      <td>...</td>\n      <td>0.345549</td>\n      <td>0.358988</td>\n      <td>-0.125662</td>\n      <td>-0.360104</td>\n      <td>0.103855</td>\n      <td>-0.223586</td>\n      <td>-0.188554</td>\n      <td>-0.049985</td>\n      <td>-0.495739</td>\n      <td>-0.037971</td>\n    </tr>\n    <tr>\n      <th>t1-d3</th>\n      <td>0.0</td>\n      <td>0.00000</td>\n      <td>0.00000</td>\n      <td>0.00000</td>\n      <td>0.000000</td>\n      <td>0.000000</td>\n      <td>0.000000</td>\n      <td>0.000000</td>\n      <td>0.000000</td>\n      <td>0.000000</td>\n      <td>...</td>\n      <td>-0.014130</td>\n      <td>-0.027113</td>\n      <td>0.215923</td>\n      <td>0.012628</td>\n      <td>-0.200742</td>\n      <td>-0.363034</td>\n      <td>0.049989</td>\n      <td>0.428332</td>\n      <td>-0.160279</td>\n      <td>-0.622307</td>\n    </tr>\n    <tr>\n      <th>t1-d4</th>\n      <td>0.0</td>\n      <td>0.00000</td>\n      <td>0.00000</td>\n      <td>0.00000</td>\n      <td>0.000000</td>\n      <td>0.000000</td>\n      <td>0.000000</td>\n      <td>0.000000</td>\n      <td>0.000000</td>\n      <td>0.000000</td>\n      <td>...</td>\n      <td>0.163391</td>\n      <td>-0.149355</td>\n      <td>0.206933</td>\n      <td>0.016338</td>\n      <td>-0.178325</td>\n      <td>-0.407931</td>\n      <td>-0.091331</td>\n      <td>0.231761</td>\n      <td>-0.034708</td>\n      <td>-0.285702</td>\n    </tr>\n    <tr>\n      <th>t2-d1</th>\n      <td>0.0</td>\n      <td>0.00000</td>\n      <td>0.00000</td>\n      <td>0.00000</td>\n      <td>0.000000</td>\n      <td>0.000000</td>\n      <td>0.000000</td>\n      <td>0.000000</td>\n      <td>0.000000</td>\n      <td>0.000000</td>\n      <td>...</td>\n      <td>0.112063</td>\n      <td>-0.067824</td>\n      <td>0.276404</td>\n      <td>0.153826</td>\n      <td>-0.249746</td>\n      <td>-0.029317</td>\n      <td>-0.065619</td>\n      <td>0.058727</td>\n      <td>0.083712</td>\n      <td>-0.313480</td>\n    </tr>\n    <tr>\n      <th>t2-d2</th>\n      <td>0.0</td>\n      <td>0.00000</td>\n      <td>0.00000</td>\n      <td>0.00000</td>\n      <td>0.000000</td>\n      <td>0.000000</td>\n      <td>0.000000</td>\n      <td>0.000000</td>\n      <td>0.000000</td>\n      <td>0.000000</td>\n      <td>...</td>\n      <td>-0.203568</td>\n      <td>-0.058821</td>\n      <td>0.046277</td>\n      <td>0.269351</td>\n      <td>-0.390020</td>\n      <td>-0.033382</td>\n      <td>-0.135930</td>\n      <td>0.035593</td>\n      <td>0.161787</td>\n      <td>-0.129465</td>\n    </tr>\n    <tr>\n      <th>t2-d3</th>\n      <td>0.0</td>\n      <td>0.00000</td>\n      <td>0.00000</td>\n      <td>0.00000</td>\n      <td>0.000000</td>\n      <td>0.000000</td>\n      <td>0.000000</td>\n      <td>0.000000</td>\n      <td>0.000000</td>\n      <td>0.000000</td>\n      <td>...</td>\n      <td>0.000000</td>\n      <td>0.116572</td>\n      <td>0.096697</td>\n      <td>-0.492560</td>\n      <td>0.065704</td>\n      <td>-0.232946</td>\n      <td>0.012806</td>\n      <td>0.091315</td>\n      <td>-0.303766</td>\n      <td>-0.191620</td>\n    </tr>\n    <tr>\n      <th>t2-d4</th>\n      <td>0.0</td>\n      <td>0.00000</td>\n      <td>0.00000</td>\n      <td>0.00000</td>\n      <td>0.000000</td>\n      <td>0.000000</td>\n      <td>0.000000</td>\n      <td>0.000000</td>\n      <td>0.000000</td>\n      <td>0.000000</td>\n      <td>...</td>\n      <td>0.000000</td>\n      <td>0.000000</td>\n      <td>-0.265466</td>\n      <td>-0.250353</td>\n      <td>-0.134152</td>\n      <td>0.043712</td>\n      <td>-0.282270</td>\n      <td>-0.141040</td>\n      <td>-0.332303</td>\n      <td>0.056605</td>\n    </tr>\n    <tr>\n      <th>d1-d2</th>\n      <td>0.0</td>\n      <td>0.00000</td>\n      <td>0.00000</td>\n      <td>0.00000</td>\n      <td>0.000000</td>\n      <td>0.000000</td>\n      <td>0.000000</td>\n      <td>0.000000</td>\n      <td>0.000000</td>\n      <td>0.000000</td>\n      <td>...</td>\n      <td>0.000000</td>\n      <td>0.000000</td>\n      <td>0.000000</td>\n      <td>-0.061813</td>\n      <td>-0.464521</td>\n      <td>-0.447702</td>\n      <td>0.118785</td>\n      <td>0.540381</td>\n      <td>-0.024902</td>\n      <td>-0.186145</td>\n    </tr>\n    <tr>\n      <th>d1-d3</th>\n      <td>0.0</td>\n      <td>0.00000</td>\n      <td>0.00000</td>\n      <td>0.00000</td>\n      <td>0.000000</td>\n      <td>0.000000</td>\n      <td>0.000000</td>\n      <td>0.000000</td>\n      <td>0.000000</td>\n      <td>0.000000</td>\n      <td>...</td>\n      <td>0.000000</td>\n      <td>0.000000</td>\n      <td>0.000000</td>\n      <td>0.000000</td>\n      <td>-0.021812</td>\n      <td>0.223488</td>\n      <td>-0.076831</td>\n      <td>-0.197898</td>\n      <td>0.520177</td>\n      <td>0.098455</td>\n    </tr>\n    <tr>\n      <th>d1-d4</th>\n      <td>0.0</td>\n      <td>0.00000</td>\n      <td>0.00000</td>\n      <td>0.00000</td>\n      <td>0.000000</td>\n      <td>0.000000</td>\n      <td>0.000000</td>\n      <td>0.000000</td>\n      <td>0.000000</td>\n      <td>0.000000</td>\n      <td>...</td>\n      <td>0.000000</td>\n      <td>0.000000</td>\n      <td>0.000000</td>\n      <td>0.000000</td>\n      <td>0.000000</td>\n      <td>0.442158</td>\n      <td>0.176816</td>\n      <td>-0.405988</td>\n      <td>0.052190</td>\n      <td>0.101113</td>\n    </tr>\n    <tr>\n      <th>d2-d3</th>\n      <td>0.0</td>\n      <td>0.00000</td>\n      <td>0.00000</td>\n      <td>0.00000</td>\n      <td>0.000000</td>\n      <td>0.000000</td>\n      <td>0.000000</td>\n      <td>0.000000</td>\n      <td>0.000000</td>\n      <td>0.000000</td>\n      <td>...</td>\n      <td>0.000000</td>\n      <td>0.000000</td>\n      <td>0.000000</td>\n      <td>0.000000</td>\n      <td>0.000000</td>\n      <td>0.000000</td>\n      <td>0.036561</td>\n      <td>-0.649859</td>\n      <td>0.275585</td>\n      <td>0.270640</td>\n    </tr>\n    <tr>\n      <th>d2-d4</th>\n      <td>0.0</td>\n      <td>0.00000</td>\n      <td>0.00000</td>\n      <td>0.00000</td>\n      <td>0.000000</td>\n      <td>0.000000</td>\n      <td>0.000000</td>\n      <td>0.000000</td>\n      <td>0.000000</td>\n      <td>0.000000</td>\n      <td>...</td>\n      <td>0.000000</td>\n      <td>0.000000</td>\n      <td>0.000000</td>\n      <td>0.000000</td>\n      <td>0.000000</td>\n      <td>0.000000</td>\n      <td>0.000000</td>\n      <td>0.181232</td>\n      <td>0.092728</td>\n      <td>-0.180510</td>\n    </tr>\n    <tr>\n      <th>d3-d4</th>\n      <td>0.0</td>\n      <td>0.00000</td>\n      <td>0.00000</td>\n      <td>0.00000</td>\n      <td>0.000000</td>\n      <td>0.000000</td>\n      <td>0.000000</td>\n      <td>0.000000</td>\n      <td>0.000000</td>\n      <td>0.000000</td>\n      <td>...</td>\n      <td>0.000000</td>\n      <td>0.000000</td>\n      <td>0.000000</td>\n      <td>0.000000</td>\n      <td>0.000000</td>\n      <td>0.000000</td>\n      <td>0.000000</td>\n      <td>0.000000</td>\n      <td>-0.134140</td>\n      <td>-0.334246</td>\n    </tr>\n    <tr>\n      <th>delta d</th>\n      <td>0.0</td>\n      <td>0.00000</td>\n      <td>0.00000</td>\n      <td>0.00000</td>\n      <td>0.000000</td>\n      <td>0.000000</td>\n      <td>0.000000</td>\n      <td>0.000000</td>\n      <td>0.000000</td>\n      <td>0.000000</td>\n      <td>...</td>\n      <td>0.000000</td>\n      <td>0.000000</td>\n      <td>0.000000</td>\n      <td>0.000000</td>\n      <td>0.000000</td>\n      <td>0.000000</td>\n      <td>0.000000</td>\n      <td>0.000000</td>\n      <td>0.000000</td>\n      <td>0.234774</td>\n    </tr>\n    <tr>\n      <th>sigma^2</th>\n      <td>0.0</td>\n      <td>0.00000</td>\n      <td>0.00000</td>\n      <td>0.00000</td>\n      <td>0.000000</td>\n      <td>0.000000</td>\n      <td>0.000000</td>\n      <td>0.000000</td>\n      <td>0.000000</td>\n      <td>0.000000</td>\n      <td>...</td>\n      <td>0.000000</td>\n      <td>0.000000</td>\n      <td>0.000000</td>\n      <td>0.000000</td>\n      <td>0.000000</td>\n      <td>0.000000</td>\n      <td>0.000000</td>\n      <td>0.000000</td>\n      <td>0.000000</td>\n      <td>0.000000</td>\n    </tr>\n  </tbody>\n</table>\n<p>35 rows × 35 columns</p>\n</div>"
     },
     "execution_count": 38,
     "metadata": {},
     "output_type": "execute_result"
    }
   ],
   "source": [
    "corr_map = df[df.columns[7:42]].corr(method='kendall')\n",
    "corr_np = np.triu(corr_map.to_numpy(), k=1)\n",
    "#idx = np.unravel_index(corr_np.argmax(), corr_np.shape)\n",
    "#print(\"Максимальная корреляция между столбцами {} и {} и равна {:.10f}\".format(\n",
    " #           list(corr_map)[idx[0]], list(corr_map)[idx[1]], corr_map.iloc[idx]))\n",
    "corr_np = pd.DataFrame(corr_np, columns=corr_map.columns, index=corr_map.index)\n",
    "corr_np"
   ]
  },
  {
   "cell_type": "markdown",
   "metadata": {
    "pycharm": {
     "name": "#%% md\n"
    }
   },
   "source": [
    "Наибольшими коэфицентами корреляции обладают пары дескрипторов:\n",
    "**Bi** - **M** (1.0) - кодирование одной и той же информации о составе по металлу  One-hot и Label энкодерами\n",
    "**Sb** - **M** (1.0) - кодирование одной и той же информации о составе по металлу  One-hot и Label энкодерами\n",
    "**Bi** - **Sb** (-1.0) -  One-hot и Label энкодер\n",
    "**Number of Hal...Hal contacts** и **N/aver-d** (0.914) - второй пересчитан из первого\n",
    "\n",
    "Целесообразней будет использовать LE для кодирования состава металла и OHE для галогена, а **Number of Hal...Hal contacts** и **N/aver-d** не использовать вместе"
   ]
  },
  {
   "cell_type": "markdown",
   "metadata": {
    "pycharm": {
     "name": "#%% md\n"
    }
   },
   "source": [
    "***"
   ]
  },
  {
   "cell_type": "markdown",
   "metadata": {
    "pycharm": {
     "name": "#%% md\n"
    }
   },
   "source": [
    "## Проанализируем странные значения"
   ]
  },
  {
   "cell_type": "code",
   "execution_count": 39,
   "metadata": {
    "collapsed": false,
    "jupyter": {
     "outputs_hidden": false
    },
    "pycharm": {
     "name": "#%%\n"
    }
   },
   "outputs": [],
   "source": [
    "# Импорт хеминформатических библеотеки для работы со SMILES\n",
    "from rdkit import Chem\n",
    "from rdkit.Chem import Draw"
   ]
  },
  {
   "cell_type": "code",
   "execution_count": 40,
   "metadata": {
    "collapsed": false,
    "jupyter": {
     "outputs_hidden": false
    },
    "pycharm": {
     "name": "#%%\n"
    }
   },
   "outputs": [
    {
     "data": {
      "text/plain": "<PIL.PngImagePlugin.PngImageFile image mode=RGB size=300x900 at 0x1B12C94D700>",
      "image/png": "[encoded data removed]"
     },
     "execution_count": 40,
     "metadata": {},
     "output_type": "execute_result"
    }
   ],
   "source": [
    "img=Draw.MolsToGridImage([Chem.MolFromSmiles(x) for x in df.loc[stange_bg_values, 'cation smiles']], molsPerRow=1,subImgSize=(300,300), returnPNG=False)\n",
    "img"
   ]
  },
  {
   "cell_type": "markdown",
   "metadata": {
    "pycharm": {
     "name": "#%% md\n"
    }
   },
   "source": [
    "Все они содержат ароматический катион и для них возможно образование ШЗЗ за счет катиона\n",
    "\n",
    "BAYFOZ - либо ШЗЗ с переносом заряда, либо артефакт оценки ШЗЗ (спектр довольно странный)\n",
    "\n",
    "IMUHEG - не очень корректная оценка\n",
    "\n",
    "NAXWUI - не очень корректная оценка, скорее всего соответсвует экситону\n",
    "\n",
    "(последние две работы выполнены одними и теми же авторами)"
   ]
  },
  {
   "cell_type": "code",
   "execution_count": 41,
   "metadata": {
    "collapsed": false,
    "jupyter": {
     "outputs_hidden": false
    },
    "pycharm": {
     "name": "#%%\n"
    }
   },
   "outputs": [],
   "source": [
    "# К сожелению, эти ценные экспериментальные данные не получится использовать в моделях(((\n",
    "# Удалим их придется удалить"
   ]
  },
  {
   "cell_type": "markdown",
   "metadata": {
    "pycharm": {
     "name": "#%% md\n"
    }
   },
   "source": [
    "***"
   ]
  },
  {
   "cell_type": "markdown",
   "metadata": {
    "pycharm": {
     "name": "#%% md\n"
    }
   },
   "source": [
    "## Подготовка данных для обучения"
   ]
  },
  {
   "cell_type": "code",
   "execution_count": 42,
   "metadata": {
    "collapsed": false,
    "jupyter": {
     "outputs_hidden": false
    },
    "pycharm": {
     "name": "#%%\n"
    }
   },
   "outputs": [],
   "source": [
    "index_to_drop = stange_bg_values # Значения для удаления"
   ]
  },
  {
   "cell_type": "code",
   "execution_count": 43,
   "metadata": {
    "collapsed": false,
    "jupyter": {
     "outputs_hidden": false
    },
    "pycharm": {
     "name": "#%%\n"
    }
   },
   "outputs": [],
   "source": [
    "# Удаляем лишнюю информацию\n",
    "df_for_bg_prediction = df.copy()\n",
    "df_for_bg_prediction.drop(columns=df_for_bg_prediction.columns[42:], index=df_for_bg_prediction[(df_for_bg_prediction['Band gap'].isna())|(df_for_bg_prediction['BG Type']=='cht')].index, inplace=True)\n",
    "df_for_bg_prediction.drop(index=index_to_drop, columns=['Chemical formula', 'Type MHal4', 'BG Type', 'M(III)', 'Hal'], inplace=True)\n",
    "df_for_bg_prediction.index = range(len(df_for_bg_prediction.index))"
   ]
  },
  {
   "cell_type": "code",
   "execution_count": 44,
   "metadata": {
    "collapsed": false,
    "jupyter": {
     "outputs_hidden": false
    },
    "pycharm": {
     "name": "#%%\n"
    },
    "tags": []
   },
   "outputs": [],
   "source": [
    "# Сохраняем\n",
    "df_for_bg_prediction.to_csv('Data_for_bg_prediction.csv', sep='\\t')"
   ]
  }
 ],
 "metadata": {
  "kernelspec": {
   "display_name": "Python 3",
   "language": "python",
   "name": "python3"
  },
  "language_info": {
   "codemirror_mode": {
    "name": "ipython",
    "version": 3
   },
   "file_extension": ".py",
   "mimetype": "text/x-python",
   "name": "python",
   "nbconvert_exporter": "python",
   "pygments_lexer": "ipython3",
   "version": "3.9.1"
  }
 },
 "nbformat": 4,
 "nbformat_minor": 4
}